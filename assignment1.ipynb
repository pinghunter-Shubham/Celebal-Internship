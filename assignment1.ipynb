{
 "cells": [
  {
   "cell_type": "code",
   "execution_count": 1,
   "metadata": {},
   "outputs": [],
   "source": [
    "def lower_triangular(n):\n",
    "    for i in range(n):\n",
    "        print(\"* \" * (i + 1))\n",
    "\n",
    "def upper_triangular(n):\n",
    "    for i in range(n):\n",
    "        print(\"  \" * i + \"* \" * (n - i))\n",
    "\n",
    "def pyramid(n):\n",
    "    for i in range(n):\n",
    "        print(\" \" * (n - i - 1) + \"* \" * (i + 1))\n",
    "\n",
    "# Input from the user\n",
    "n = int(input(\"Enter the number of rows for the patterns: \"))\n",
    "\n",
    "# Print Lower Triangular Pattern\n",
    "print(\"\\nLower Triangular Pattern:\")\n",
    "lower_triangular(n)\n",
    "\n",
    "# Print Upper Triangular Pattern\n",
    "print(\"\\nUpper Triangular Pattern:\")\n",
    "upper_triangular(n)\n",
    "\n",
    "# Print Pyramid Pattern\n",
    "print(\"\\nPyramid Pattern:\")\n",
    "pyramid(n)\n"
   ]
  }
 ],
 "metadata": {
  "kernelspec": {
   "display_name": "base",
   "language": "python",
   "name": "python3"
  },
  "language_info": {
   "codemirror_mode": {
    "name": "ipython",
    "version": 3
   },
   "file_extension": ".py",
   "mimetype": "text/x-python",
   "name": "python",
   "nbconvert_exporter": "python",
   "pygments_lexer": "ipython3",
   "version": "3.11.5"
  }
 },
 "nbformat": 4,
 "nbformat_minor": 2
}
