{
 "cells": [
  {
   "cell_type": "markdown",
   "id": "accepted-decrease",
   "metadata": {
    "papermill": {
     "duration": 0.034488,
     "end_time": "2021-07-14T05:47:57.546830",
     "exception": false,
     "start_time": "2021-07-14T05:47:57.512342",
     "status": "completed"
    },
    "tags": []
   },
   "source": [
    "# Introduction\n",
    "\n",
    "In this notebook series, I'll be sharing my typical approach to machine learning (ML) problems (in this case competitions), in an end-to-end ML pipeline starting with the data analyses, to feature engineering, validation strategies, model training and finally inference (with post-processing techniques).\n",
    "\n",
    "My notebooks in this series can be found in the links below:\n",
    "- [Exploratory Data Analysis (EDA)](https://www.kaggle.com/khoongweihao/part-1-exploratory-data-analysis-eda)\n",
    "- [Preprocessing & Feature Engineering](https://www.kaggle.com/khoongweihao/part-2-preprocessing-feature-engineering)\n",
    "- [Model Training & Validation Strategies](https://www.kaggle.com/khoongweihao/part-3-model-training-validation-strategies)\n",
    "- [Inference & Post-processing Techniques](https://www.kaggle.com/khoongweihao/part-4-inference-and-post-processing-techniques)\n",
    "\n",
    "Bonus notebooks include adoption of recent research in terms of models, hyperparameter search, etc. They can be found in the links below:\n",
    "- Hyperparameter optimization with Optuna\n",
    "- TabNet "
   ]
  },
  {
   "cell_type": "markdown",
   "id": "resistant-chess",
   "metadata": {
    "papermill": {
     "duration": 0.033274,
     "end_time": "2021-07-14T05:47:57.613989",
     "exception": false,
     "start_time": "2021-07-14T05:47:57.580715",
     "status": "completed"
    },
    "tags": []
   },
   "source": [
    "# Imports"
   ]
  },
  {
   "cell_type": "code",
   "execution_count": 1,
   "id": "structural-eight",
   "metadata": {
    "_cell_guid": "b1076dfc-b9ad-4769-8c92-a6c4dae69d19",
    "_uuid": "8f2839f25d086af736a60e9eeb907d3b93b6e0e5",
    "execution": {
     "iopub.execute_input": "2021-07-14T05:47:57.692528Z",
     "iopub.status.busy": "2021-07-14T05:47:57.691365Z",
     "iopub.status.idle": "2021-07-14T05:47:59.133902Z",
     "shell.execute_reply": "2021-07-14T05:47:59.134515Z",
     "shell.execute_reply.started": "2021-07-14T05:44:09.206956Z"
    },
    "papermill": {
     "duration": 1.486187,
     "end_time": "2021-07-14T05:47:59.134813",
     "exception": false,
     "start_time": "2021-07-14T05:47:57.648626",
     "status": "completed"
    },
    "tags": []
   },
   "outputs": [],
   "source": [
    "import numpy as np \n",
    "import pandas as pd \n",
    "import os\n",
    "from matplotlib import pyplot as plt\n",
    "from sklearn.impute import SimpleImputer\n",
    "from sklearn.preprocessing import LabelEncoder\n",
    "from sklearn.preprocessing import StandardScaler, MinMaxScaler\n",
    "import category_encoders as ce"
   ]
  },
  {
   "cell_type": "code",
   "execution_count": 2,
   "id": "infrared-money",
   "metadata": {
    "execution": {
     "iopub.execute_input": "2021-07-14T05:47:59.206791Z",
     "iopub.status.busy": "2021-07-14T05:47:59.206106Z",
     "iopub.status.idle": "2021-07-14T05:47:59.245587Z",
     "shell.execute_reply": "2021-07-14T05:47:59.246149Z",
     "shell.execute_reply.started": "2021-07-14T05:44:10.482368Z"
    },
    "papermill": {
     "duration": 0.076829,
     "end_time": "2021-07-14T05:47:59.246328",
     "exception": false,
     "start_time": "2021-07-14T05:47:59.169499",
     "status": "completed"
    },
    "tags": []
   },
   "outputs": [],
   "source": [
    "df_train = pd.read_csv('../input/titanic/train.csv')\n",
    "df_test = pd.read_csv('../input/titanic/test.csv')\n",
    "df_sub = pd.read_csv('../input/titanic/gender_submission.csv')"
   ]
  },
  {
   "cell_type": "markdown",
   "id": "facial-module",
   "metadata": {
    "execution": {
     "iopub.execute_input": "2021-06-19T08:30:32.713555Z",
     "iopub.status.busy": "2021-06-19T08:30:32.713191Z",
     "iopub.status.idle": "2021-06-19T08:30:32.717416Z",
     "shell.execute_reply": "2021-06-19T08:30:32.716727Z",
     "shell.execute_reply.started": "2021-06-19T08:30:32.713522Z"
    },
    "papermill": {
     "duration": 0.033686,
     "end_time": "2021-07-14T05:47:59.313915",
     "exception": false,
     "start_time": "2021-07-14T05:47:59.280229",
     "status": "completed"
    },
    "tags": []
   },
   "source": [
    "# Preprocessing The Data"
   ]
  },
  {
   "cell_type": "code",
   "execution_count": 3,
   "id": "metallic-monster",
   "metadata": {
    "execution": {
     "iopub.execute_input": "2021-07-14T05:47:59.404314Z",
     "iopub.status.busy": "2021-07-14T05:47:59.403673Z",
     "iopub.status.idle": "2021-07-14T05:47:59.439492Z",
     "shell.execute_reply": "2021-07-14T05:47:59.438961Z",
     "shell.execute_reply.started": "2021-07-14T05:44:10.524683Z"
    },
    "papermill": {
     "duration": 0.084528,
     "end_time": "2021-07-14T05:47:59.439633",
     "exception": false,
     "start_time": "2021-07-14T05:47:59.355105",
     "status": "completed"
    },
    "tags": []
   },
   "outputs": [
    {
     "data": {
      "text/html": [
       "<div>\n",
       "<style scoped>\n",
       "    .dataframe tbody tr th:only-of-type {\n",
       "        vertical-align: middle;\n",
       "    }\n",
       "\n",
       "    .dataframe tbody tr th {\n",
       "        vertical-align: top;\n",
       "    }\n",
       "\n",
       "    .dataframe thead th {\n",
       "        text-align: right;\n",
       "    }\n",
       "</style>\n",
       "<table border=\"1\" class=\"dataframe\">\n",
       "  <thead>\n",
       "    <tr style=\"text-align: right;\">\n",
       "      <th></th>\n",
       "      <th>PassengerId</th>\n",
       "      <th>Survived</th>\n",
       "      <th>Pclass</th>\n",
       "      <th>Name</th>\n",
       "      <th>Sex</th>\n",
       "      <th>Age</th>\n",
       "      <th>SibSp</th>\n",
       "      <th>Parch</th>\n",
       "      <th>Ticket</th>\n",
       "      <th>Fare</th>\n",
       "      <th>Cabin</th>\n",
       "      <th>Embarked</th>\n",
       "    </tr>\n",
       "  </thead>\n",
       "  <tbody>\n",
       "    <tr>\n",
       "      <th>0</th>\n",
       "      <td>1</td>\n",
       "      <td>0</td>\n",
       "      <td>3</td>\n",
       "      <td>Braund, Mr. Owen Harris</td>\n",
       "      <td>male</td>\n",
       "      <td>22.0</td>\n",
       "      <td>1</td>\n",
       "      <td>0</td>\n",
       "      <td>A/5 21171</td>\n",
       "      <td>7.2500</td>\n",
       "      <td>NaN</td>\n",
       "      <td>S</td>\n",
       "    </tr>\n",
       "    <tr>\n",
       "      <th>1</th>\n",
       "      <td>2</td>\n",
       "      <td>1</td>\n",
       "      <td>1</td>\n",
       "      <td>Cumings, Mrs. John Bradley (Florence Briggs Th...</td>\n",
       "      <td>female</td>\n",
       "      <td>38.0</td>\n",
       "      <td>1</td>\n",
       "      <td>0</td>\n",
       "      <td>PC 17599</td>\n",
       "      <td>71.2833</td>\n",
       "      <td>C85</td>\n",
       "      <td>C</td>\n",
       "    </tr>\n",
       "    <tr>\n",
       "      <th>2</th>\n",
       "      <td>3</td>\n",
       "      <td>1</td>\n",
       "      <td>3</td>\n",
       "      <td>Heikkinen, Miss. Laina</td>\n",
       "      <td>female</td>\n",
       "      <td>26.0</td>\n",
       "      <td>0</td>\n",
       "      <td>0</td>\n",
       "      <td>STON/O2. 3101282</td>\n",
       "      <td>7.9250</td>\n",
       "      <td>NaN</td>\n",
       "      <td>S</td>\n",
       "    </tr>\n",
       "    <tr>\n",
       "      <th>3</th>\n",
       "      <td>4</td>\n",
       "      <td>1</td>\n",
       "      <td>1</td>\n",
       "      <td>Futrelle, Mrs. Jacques Heath (Lily May Peel)</td>\n",
       "      <td>female</td>\n",
       "      <td>35.0</td>\n",
       "      <td>1</td>\n",
       "      <td>0</td>\n",
       "      <td>113803</td>\n",
       "      <td>53.1000</td>\n",
       "      <td>C123</td>\n",
       "      <td>S</td>\n",
       "    </tr>\n",
       "    <tr>\n",
       "      <th>4</th>\n",
       "      <td>5</td>\n",
       "      <td>0</td>\n",
       "      <td>3</td>\n",
       "      <td>Allen, Mr. William Henry</td>\n",
       "      <td>male</td>\n",
       "      <td>35.0</td>\n",
       "      <td>0</td>\n",
       "      <td>0</td>\n",
       "      <td>373450</td>\n",
       "      <td>8.0500</td>\n",
       "      <td>NaN</td>\n",
       "      <td>S</td>\n",
       "    </tr>\n",
       "  </tbody>\n",
       "</table>\n",
       "</div>"
      ],
      "text/plain": [
       "   PassengerId  Survived  Pclass  \\\n",
       "0            1         0       3   \n",
       "1            2         1       1   \n",
       "2            3         1       3   \n",
       "3            4         1       1   \n",
       "4            5         0       3   \n",
       "\n",
       "                                                Name     Sex   Age  SibSp  \\\n",
       "0                            Braund, Mr. Owen Harris    male  22.0      1   \n",
       "1  Cumings, Mrs. John Bradley (Florence Briggs Th...  female  38.0      1   \n",
       "2                             Heikkinen, Miss. Laina  female  26.0      0   \n",
       "3       Futrelle, Mrs. Jacques Heath (Lily May Peel)  female  35.0      1   \n",
       "4                           Allen, Mr. William Henry    male  35.0      0   \n",
       "\n",
       "   Parch            Ticket     Fare Cabin Embarked  \n",
       "0      0         A/5 21171   7.2500   NaN        S  \n",
       "1      0          PC 17599  71.2833   C85        C  \n",
       "2      0  STON/O2. 3101282   7.9250   NaN        S  \n",
       "3      0            113803  53.1000  C123        S  \n",
       "4      0            373450   8.0500   NaN        S  "
      ]
     },
     "execution_count": 3,
     "metadata": {},
     "output_type": "execute_result"
    }
   ],
   "source": [
    "df_train.head()"
   ]
  },
  {
   "cell_type": "code",
   "execution_count": 4,
   "id": "equivalent-yorkshire",
   "metadata": {
    "execution": {
     "iopub.execute_input": "2021-07-14T05:47:59.511929Z",
     "iopub.status.busy": "2021-07-14T05:47:59.511322Z",
     "iopub.status.idle": "2021-07-14T05:47:59.527771Z",
     "shell.execute_reply": "2021-07-14T05:47:59.528270Z",
     "shell.execute_reply.started": "2021-07-14T05:44:10.556690Z"
    },
    "papermill": {
     "duration": 0.053733,
     "end_time": "2021-07-14T05:47:59.528452",
     "exception": false,
     "start_time": "2021-07-14T05:47:59.474719",
     "status": "completed"
    },
    "tags": []
   },
   "outputs": [
    {
     "data": {
      "text/html": [
       "<div>\n",
       "<style scoped>\n",
       "    .dataframe tbody tr th:only-of-type {\n",
       "        vertical-align: middle;\n",
       "    }\n",
       "\n",
       "    .dataframe tbody tr th {\n",
       "        vertical-align: top;\n",
       "    }\n",
       "\n",
       "    .dataframe thead th {\n",
       "        text-align: right;\n",
       "    }\n",
       "</style>\n",
       "<table border=\"1\" class=\"dataframe\">\n",
       "  <thead>\n",
       "    <tr style=\"text-align: right;\">\n",
       "      <th></th>\n",
       "      <th>PassengerId</th>\n",
       "      <th>Pclass</th>\n",
       "      <th>Name</th>\n",
       "      <th>Sex</th>\n",
       "      <th>Age</th>\n",
       "      <th>SibSp</th>\n",
       "      <th>Parch</th>\n",
       "      <th>Ticket</th>\n",
       "      <th>Fare</th>\n",
       "      <th>Cabin</th>\n",
       "      <th>Embarked</th>\n",
       "    </tr>\n",
       "  </thead>\n",
       "  <tbody>\n",
       "    <tr>\n",
       "      <th>0</th>\n",
       "      <td>892</td>\n",
       "      <td>3</td>\n",
       "      <td>Kelly, Mr. James</td>\n",
       "      <td>male</td>\n",
       "      <td>34.5</td>\n",
       "      <td>0</td>\n",
       "      <td>0</td>\n",
       "      <td>330911</td>\n",
       "      <td>7.8292</td>\n",
       "      <td>NaN</td>\n",
       "      <td>Q</td>\n",
       "    </tr>\n",
       "    <tr>\n",
       "      <th>1</th>\n",
       "      <td>893</td>\n",
       "      <td>3</td>\n",
       "      <td>Wilkes, Mrs. James (Ellen Needs)</td>\n",
       "      <td>female</td>\n",
       "      <td>47.0</td>\n",
       "      <td>1</td>\n",
       "      <td>0</td>\n",
       "      <td>363272</td>\n",
       "      <td>7.0000</td>\n",
       "      <td>NaN</td>\n",
       "      <td>S</td>\n",
       "    </tr>\n",
       "    <tr>\n",
       "      <th>2</th>\n",
       "      <td>894</td>\n",
       "      <td>2</td>\n",
       "      <td>Myles, Mr. Thomas Francis</td>\n",
       "      <td>male</td>\n",
       "      <td>62.0</td>\n",
       "      <td>0</td>\n",
       "      <td>0</td>\n",
       "      <td>240276</td>\n",
       "      <td>9.6875</td>\n",
       "      <td>NaN</td>\n",
       "      <td>Q</td>\n",
       "    </tr>\n",
       "    <tr>\n",
       "      <th>3</th>\n",
       "      <td>895</td>\n",
       "      <td>3</td>\n",
       "      <td>Wirz, Mr. Albert</td>\n",
       "      <td>male</td>\n",
       "      <td>27.0</td>\n",
       "      <td>0</td>\n",
       "      <td>0</td>\n",
       "      <td>315154</td>\n",
       "      <td>8.6625</td>\n",
       "      <td>NaN</td>\n",
       "      <td>S</td>\n",
       "    </tr>\n",
       "    <tr>\n",
       "      <th>4</th>\n",
       "      <td>896</td>\n",
       "      <td>3</td>\n",
       "      <td>Hirvonen, Mrs. Alexander (Helga E Lindqvist)</td>\n",
       "      <td>female</td>\n",
       "      <td>22.0</td>\n",
       "      <td>1</td>\n",
       "      <td>1</td>\n",
       "      <td>3101298</td>\n",
       "      <td>12.2875</td>\n",
       "      <td>NaN</td>\n",
       "      <td>S</td>\n",
       "    </tr>\n",
       "  </tbody>\n",
       "</table>\n",
       "</div>"
      ],
      "text/plain": [
       "   PassengerId  Pclass                                          Name     Sex  \\\n",
       "0          892       3                              Kelly, Mr. James    male   \n",
       "1          893       3              Wilkes, Mrs. James (Ellen Needs)  female   \n",
       "2          894       2                     Myles, Mr. Thomas Francis    male   \n",
       "3          895       3                              Wirz, Mr. Albert    male   \n",
       "4          896       3  Hirvonen, Mrs. Alexander (Helga E Lindqvist)  female   \n",
       "\n",
       "    Age  SibSp  Parch   Ticket     Fare Cabin Embarked  \n",
       "0  34.5      0      0   330911   7.8292   NaN        Q  \n",
       "1  47.0      1      0   363272   7.0000   NaN        S  \n",
       "2  62.0      0      0   240276   9.6875   NaN        Q  \n",
       "3  27.0      0      0   315154   8.6625   NaN        S  \n",
       "4  22.0      1      1  3101298  12.2875   NaN        S  "
      ]
     },
     "execution_count": 4,
     "metadata": {},
     "output_type": "execute_result"
    }
   ],
   "source": [
    "df_test.head()"
   ]
  },
  {
   "cell_type": "markdown",
   "id": "developmental-advancement",
   "metadata": {
    "papermill": {
     "duration": 0.035,
     "end_time": "2021-07-14T05:47:59.598186",
     "exception": false,
     "start_time": "2021-07-14T05:47:59.563186",
     "status": "completed"
    },
    "tags": []
   },
   "source": [
    "Firstly, let's see which features could be used to train the ML model in predicting passenger survival. The passenger name (`Name`) probably can't be used right off the bat as each passenger have a unique name (most likely, can be verified) and having the number of categories equal to the number of entries in the dataset may not be useful for the model. A possible way to incorporate the passenger name as a feature will be to encode it into say a binary category, where `1` indicates that the passenger is a person of status (e.g. monarchy, president, etc) and `0` otherwise. \n",
    "\n",
    "The ticket number `Ticket` is similar in that sense, and may be dropped for initial ML modeling."
   ]
  },
  {
   "cell_type": "code",
   "execution_count": 5,
   "id": "institutional-hardwood",
   "metadata": {
    "execution": {
     "iopub.execute_input": "2021-07-14T05:47:59.671126Z",
     "iopub.status.busy": "2021-07-14T05:47:59.670488Z",
     "iopub.status.idle": "2021-07-14T05:47:59.677321Z",
     "shell.execute_reply": "2021-07-14T05:47:59.677812Z",
     "shell.execute_reply.started": "2021-07-14T05:44:10.573763Z"
    },
    "papermill": {
     "duration": 0.044666,
     "end_time": "2021-07-14T05:47:59.677980",
     "exception": false,
     "start_time": "2021-07-14T05:47:59.633314",
     "status": "completed"
    },
    "tags": []
   },
   "outputs": [],
   "source": [
    "df_train.drop(['PassengerId', 'Name', 'Ticket'], axis=1, inplace=True)"
   ]
  },
  {
   "cell_type": "code",
   "execution_count": 6,
   "id": "fundamental-coordinate",
   "metadata": {
    "execution": {
     "iopub.execute_input": "2021-07-14T05:47:59.750491Z",
     "iopub.status.busy": "2021-07-14T05:47:59.749860Z",
     "iopub.status.idle": "2021-07-14T05:47:59.754993Z",
     "shell.execute_reply": "2021-07-14T05:47:59.755501Z",
     "shell.execute_reply.started": "2021-07-14T05:44:10.588771Z"
    },
    "papermill": {
     "duration": 0.043011,
     "end_time": "2021-07-14T05:47:59.755679",
     "exception": false,
     "start_time": "2021-07-14T05:47:59.712668",
     "status": "completed"
    },
    "tags": []
   },
   "outputs": [],
   "source": [
    "df_test.drop(['PassengerId', 'Name', 'Ticket'], axis=1, inplace=True)"
   ]
  },
  {
   "cell_type": "code",
   "execution_count": 7,
   "id": "cooked-swedish",
   "metadata": {
    "execution": {
     "iopub.execute_input": "2021-07-14T05:47:59.829317Z",
     "iopub.status.busy": "2021-07-14T05:47:59.828347Z",
     "iopub.status.idle": "2021-07-14T05:47:59.843070Z",
     "shell.execute_reply": "2021-07-14T05:47:59.843550Z",
     "shell.execute_reply.started": "2021-07-14T05:44:10.601082Z"
    },
    "papermill": {
     "duration": 0.052901,
     "end_time": "2021-07-14T05:47:59.843738",
     "exception": false,
     "start_time": "2021-07-14T05:47:59.790837",
     "status": "completed"
    },
    "tags": []
   },
   "outputs": [
    {
     "data": {
      "text/html": [
       "<div>\n",
       "<style scoped>\n",
       "    .dataframe tbody tr th:only-of-type {\n",
       "        vertical-align: middle;\n",
       "    }\n",
       "\n",
       "    .dataframe tbody tr th {\n",
       "        vertical-align: top;\n",
       "    }\n",
       "\n",
       "    .dataframe thead th {\n",
       "        text-align: right;\n",
       "    }\n",
       "</style>\n",
       "<table border=\"1\" class=\"dataframe\">\n",
       "  <thead>\n",
       "    <tr style=\"text-align: right;\">\n",
       "      <th></th>\n",
       "      <th>Survived</th>\n",
       "      <th>Pclass</th>\n",
       "      <th>Sex</th>\n",
       "      <th>Age</th>\n",
       "      <th>SibSp</th>\n",
       "      <th>Parch</th>\n",
       "      <th>Fare</th>\n",
       "      <th>Cabin</th>\n",
       "      <th>Embarked</th>\n",
       "    </tr>\n",
       "  </thead>\n",
       "  <tbody>\n",
       "    <tr>\n",
       "      <th>0</th>\n",
       "      <td>0</td>\n",
       "      <td>3</td>\n",
       "      <td>male</td>\n",
       "      <td>22.0</td>\n",
       "      <td>1</td>\n",
       "      <td>0</td>\n",
       "      <td>7.2500</td>\n",
       "      <td>NaN</td>\n",
       "      <td>S</td>\n",
       "    </tr>\n",
       "    <tr>\n",
       "      <th>1</th>\n",
       "      <td>1</td>\n",
       "      <td>1</td>\n",
       "      <td>female</td>\n",
       "      <td>38.0</td>\n",
       "      <td>1</td>\n",
       "      <td>0</td>\n",
       "      <td>71.2833</td>\n",
       "      <td>C85</td>\n",
       "      <td>C</td>\n",
       "    </tr>\n",
       "    <tr>\n",
       "      <th>2</th>\n",
       "      <td>1</td>\n",
       "      <td>3</td>\n",
       "      <td>female</td>\n",
       "      <td>26.0</td>\n",
       "      <td>0</td>\n",
       "      <td>0</td>\n",
       "      <td>7.9250</td>\n",
       "      <td>NaN</td>\n",
       "      <td>S</td>\n",
       "    </tr>\n",
       "    <tr>\n",
       "      <th>3</th>\n",
       "      <td>1</td>\n",
       "      <td>1</td>\n",
       "      <td>female</td>\n",
       "      <td>35.0</td>\n",
       "      <td>1</td>\n",
       "      <td>0</td>\n",
       "      <td>53.1000</td>\n",
       "      <td>C123</td>\n",
       "      <td>S</td>\n",
       "    </tr>\n",
       "    <tr>\n",
       "      <th>4</th>\n",
       "      <td>0</td>\n",
       "      <td>3</td>\n",
       "      <td>male</td>\n",
       "      <td>35.0</td>\n",
       "      <td>0</td>\n",
       "      <td>0</td>\n",
       "      <td>8.0500</td>\n",
       "      <td>NaN</td>\n",
       "      <td>S</td>\n",
       "    </tr>\n",
       "  </tbody>\n",
       "</table>\n",
       "</div>"
      ],
      "text/plain": [
       "   Survived  Pclass     Sex   Age  SibSp  Parch     Fare Cabin Embarked\n",
       "0         0       3    male  22.0      1      0   7.2500   NaN        S\n",
       "1         1       1  female  38.0      1      0  71.2833   C85        C\n",
       "2         1       3  female  26.0      0      0   7.9250   NaN        S\n",
       "3         1       1  female  35.0      1      0  53.1000  C123        S\n",
       "4         0       3    male  35.0      0      0   8.0500   NaN        S"
      ]
     },
     "execution_count": 7,
     "metadata": {},
     "output_type": "execute_result"
    }
   ],
   "source": [
    "df_train.head()"
   ]
  },
  {
   "cell_type": "code",
   "execution_count": 8,
   "id": "gothic-lyric",
   "metadata": {
    "execution": {
     "iopub.execute_input": "2021-07-14T05:47:59.919899Z",
     "iopub.status.busy": "2021-07-14T05:47:59.919114Z",
     "iopub.status.idle": "2021-07-14T05:47:59.933491Z",
     "shell.execute_reply": "2021-07-14T05:47:59.934071Z",
     "shell.execute_reply.started": "2021-07-14T05:44:10.623861Z"
    },
    "papermill": {
     "duration": 0.053938,
     "end_time": "2021-07-14T05:47:59.934291",
     "exception": false,
     "start_time": "2021-07-14T05:47:59.880353",
     "status": "completed"
    },
    "tags": []
   },
   "outputs": [
    {
     "data": {
      "text/html": [
       "<div>\n",
       "<style scoped>\n",
       "    .dataframe tbody tr th:only-of-type {\n",
       "        vertical-align: middle;\n",
       "    }\n",
       "\n",
       "    .dataframe tbody tr th {\n",
       "        vertical-align: top;\n",
       "    }\n",
       "\n",
       "    .dataframe thead th {\n",
       "        text-align: right;\n",
       "    }\n",
       "</style>\n",
       "<table border=\"1\" class=\"dataframe\">\n",
       "  <thead>\n",
       "    <tr style=\"text-align: right;\">\n",
       "      <th></th>\n",
       "      <th>Pclass</th>\n",
       "      <th>Sex</th>\n",
       "      <th>Age</th>\n",
       "      <th>SibSp</th>\n",
       "      <th>Parch</th>\n",
       "      <th>Fare</th>\n",
       "      <th>Cabin</th>\n",
       "      <th>Embarked</th>\n",
       "    </tr>\n",
       "  </thead>\n",
       "  <tbody>\n",
       "    <tr>\n",
       "      <th>0</th>\n",
       "      <td>3</td>\n",
       "      <td>male</td>\n",
       "      <td>34.5</td>\n",
       "      <td>0</td>\n",
       "      <td>0</td>\n",
       "      <td>7.8292</td>\n",
       "      <td>NaN</td>\n",
       "      <td>Q</td>\n",
       "    </tr>\n",
       "    <tr>\n",
       "      <th>1</th>\n",
       "      <td>3</td>\n",
       "      <td>female</td>\n",
       "      <td>47.0</td>\n",
       "      <td>1</td>\n",
       "      <td>0</td>\n",
       "      <td>7.0000</td>\n",
       "      <td>NaN</td>\n",
       "      <td>S</td>\n",
       "    </tr>\n",
       "    <tr>\n",
       "      <th>2</th>\n",
       "      <td>2</td>\n",
       "      <td>male</td>\n",
       "      <td>62.0</td>\n",
       "      <td>0</td>\n",
       "      <td>0</td>\n",
       "      <td>9.6875</td>\n",
       "      <td>NaN</td>\n",
       "      <td>Q</td>\n",
       "    </tr>\n",
       "    <tr>\n",
       "      <th>3</th>\n",
       "      <td>3</td>\n",
       "      <td>male</td>\n",
       "      <td>27.0</td>\n",
       "      <td>0</td>\n",
       "      <td>0</td>\n",
       "      <td>8.6625</td>\n",
       "      <td>NaN</td>\n",
       "      <td>S</td>\n",
       "    </tr>\n",
       "    <tr>\n",
       "      <th>4</th>\n",
       "      <td>3</td>\n",
       "      <td>female</td>\n",
       "      <td>22.0</td>\n",
       "      <td>1</td>\n",
       "      <td>1</td>\n",
       "      <td>12.2875</td>\n",
       "      <td>NaN</td>\n",
       "      <td>S</td>\n",
       "    </tr>\n",
       "  </tbody>\n",
       "</table>\n",
       "</div>"
      ],
      "text/plain": [
       "   Pclass     Sex   Age  SibSp  Parch     Fare Cabin Embarked\n",
       "0       3    male  34.5      0      0   7.8292   NaN        Q\n",
       "1       3  female  47.0      1      0   7.0000   NaN        S\n",
       "2       2    male  62.0      0      0   9.6875   NaN        Q\n",
       "3       3    male  27.0      0      0   8.6625   NaN        S\n",
       "4       3  female  22.0      1      1  12.2875   NaN        S"
      ]
     },
     "execution_count": 8,
     "metadata": {},
     "output_type": "execute_result"
    }
   ],
   "source": [
    "df_test.head()"
   ]
  },
  {
   "cell_type": "markdown",
   "id": "demonstrated-synthesis",
   "metadata": {
    "papermill": {
     "duration": 0.042285,
     "end_time": "2021-07-14T05:48:00.020740",
     "exception": false,
     "start_time": "2021-07-14T05:47:59.978455",
     "status": "completed"
    },
    "tags": []
   },
   "source": [
    "Next, we encode the categorical features which are strings.For which we use Scikit-learn's `LabelEncoder`:"
   ]
  },
  {
   "cell_type": "code",
   "execution_count": 9,
   "id": "sticky-tuner",
   "metadata": {
    "execution": {
     "iopub.execute_input": "2021-07-14T05:48:00.100243Z",
     "iopub.status.busy": "2021-07-14T05:48:00.099603Z",
     "iopub.status.idle": "2021-07-14T05:48:00.106543Z",
     "shell.execute_reply": "2021-07-14T05:48:00.107028Z",
     "shell.execute_reply.started": "2021-07-14T05:44:10.648951Z"
    },
    "papermill": {
     "duration": 0.048536,
     "end_time": "2021-07-14T05:48:00.107265",
     "exception": false,
     "start_time": "2021-07-14T05:48:00.058729",
     "status": "completed"
    },
    "tags": []
   },
   "outputs": [],
   "source": [
    "df_train['Cabin'] = df_train['Cabin'].replace(np.NaN, 'UNKNOWN', regex=True)\n",
    "df_test['Cabin'] = df_test['Cabin'].replace(np.NaN, 'UNKNOWN', regex=True)"
   ]
  },
  {
   "cell_type": "code",
   "execution_count": 10,
   "id": "independent-primary",
   "metadata": {
    "execution": {
     "iopub.execute_input": "2021-07-14T05:48:00.183270Z",
     "iopub.status.busy": "2021-07-14T05:48:00.182626Z",
     "iopub.status.idle": "2021-07-14T05:48:00.189950Z",
     "shell.execute_reply": "2021-07-14T05:48:00.190499Z",
     "shell.execute_reply.started": "2021-07-14T05:44:10.658139Z"
    },
    "papermill": {
     "duration": 0.047334,
     "end_time": "2021-07-14T05:48:00.190678",
     "exception": false,
     "start_time": "2021-07-14T05:48:00.143344",
     "status": "completed"
    },
    "tags": []
   },
   "outputs": [
    {
     "data": {
      "text/plain": [
       "array(['A10', 'A11', 'A14', 'A16', 'A18', 'A19', 'A20', 'A21', 'A23',\n",
       "       'A24', 'A26', 'A29', 'A31', 'A32', 'A34', 'A36', 'A5', 'A6', 'A7',\n",
       "       'A9', 'B10', 'B101', 'B102', 'B11', 'B18', 'B19', 'B20', 'B22',\n",
       "       'B24', 'B26', 'B28', 'B3', 'B30', 'B35', 'B36', 'B37', 'B38',\n",
       "       'B39', 'B4', 'B41', 'B42', 'B45', 'B49', 'B5', 'B50',\n",
       "       'B51 B53 B55', 'B52 B54 B56', 'B57 B59 B63 B66', 'B58 B60', 'B61',\n",
       "       'B69', 'B71', 'B73', 'B77', 'B78', 'B79', 'B80', 'B82 B84', 'B86',\n",
       "       'B94', 'B96 B98', 'C101', 'C103', 'C104', 'C105', 'C106', 'C110',\n",
       "       'C111', 'C116', 'C118', 'C123', 'C124', 'C125', 'C126', 'C128',\n",
       "       'C130', 'C132', 'C148', 'C2', 'C22 C26', 'C23 C25 C27', 'C28',\n",
       "       'C30', 'C31', 'C32', 'C39', 'C45', 'C46', 'C47', 'C49', 'C50',\n",
       "       'C51', 'C52', 'C53', 'C54', 'C55 C57', 'C6', 'C62 C64', 'C65',\n",
       "       'C68', 'C7', 'C70', 'C78', 'C80', 'C82', 'C83', 'C85', 'C86',\n",
       "       'C87', 'C89', 'C90', 'C91', 'C92', 'C93', 'C95', 'C97', 'C99', 'D',\n",
       "       'D10 D12', 'D11', 'D15', 'D17', 'D19', 'D20', 'D21', 'D22', 'D26',\n",
       "       'D28', 'D30', 'D33', 'D34', 'D35', 'D36', 'D37', 'D38', 'D40',\n",
       "       'D43', 'D45', 'D46', 'D47', 'D48', 'D49', 'D50', 'D56', 'D6', 'D7',\n",
       "       'D9', 'E10', 'E101', 'E12', 'E121', 'E17', 'E24', 'E25', 'E31',\n",
       "       'E33', 'E34', 'E36', 'E38', 'E39 E41', 'E40', 'E44', 'E45', 'E46',\n",
       "       'E49', 'E50', 'E52', 'E58', 'E60', 'E63', 'E67', 'E68', 'E77',\n",
       "       'E8', 'F', 'F E46', 'F E57', 'F E69', 'F G63', 'F G73', 'F2',\n",
       "       'F33', 'F38', 'F4', 'G6', 'T', 'UNKNOWN'], dtype='<U15')"
      ]
     },
     "execution_count": 10,
     "metadata": {},
     "output_type": "execute_result"
    }
   ],
   "source": [
    "cabin_vals = np.unique(list(df_train['Cabin'].values) + list(df_test['Cabin'].values))\n",
    "cabin_vals"
   ]
  },
  {
   "cell_type": "code",
   "execution_count": 11,
   "id": "cardiovascular-terry",
   "metadata": {
    "execution": {
     "iopub.execute_input": "2021-07-14T05:48:00.266202Z",
     "iopub.status.busy": "2021-07-14T05:48:00.265553Z",
     "iopub.status.idle": "2021-07-14T05:48:00.270929Z",
     "shell.execute_reply": "2021-07-14T05:48:00.270289Z",
     "shell.execute_reply.started": "2021-07-14T05:44:10.673275Z"
    },
    "papermill": {
     "duration": 0.043844,
     "end_time": "2021-07-14T05:48:00.271066",
     "exception": false,
     "start_time": "2021-07-14T05:48:00.227222",
     "status": "completed"
    },
    "tags": []
   },
   "outputs": [],
   "source": [
    "mapping_d = {}\n",
    "for i, feature in enumerate(cabin_vals):\n",
    "    mapping_d[feature] = i\n",
    "    \n",
    "encoder= ce.OrdinalEncoder(cols=['Cabin'], return_df=True,\n",
    "                           mapping=[{'col':'Cabin',\n",
    "                                     'mapping': mapping_d}])"
   ]
  },
  {
   "cell_type": "code",
   "execution_count": 12,
   "id": "traditional-dakota",
   "metadata": {
    "_kg_hide-output": true,
    "execution": {
     "iopub.execute_input": "2021-07-14T05:48:00.356389Z",
     "iopub.status.busy": "2021-07-14T05:48:00.355139Z",
     "iopub.status.idle": "2021-07-14T05:48:00.359193Z",
     "shell.execute_reply": "2021-07-14T05:48:00.359642Z",
     "shell.execute_reply.started": "2021-07-14T05:44:10.679855Z"
    },
    "papermill": {
     "duration": 0.052673,
     "end_time": "2021-07-14T05:48:00.359811",
     "exception": false,
     "start_time": "2021-07-14T05:48:00.307138",
     "status": "completed"
    },
    "tags": []
   },
   "outputs": [
    {
     "data": {
      "text/plain": [
       "{'A10': 0,\n",
       " 'A11': 1,\n",
       " 'A14': 2,\n",
       " 'A16': 3,\n",
       " 'A18': 4,\n",
       " 'A19': 5,\n",
       " 'A20': 6,\n",
       " 'A21': 7,\n",
       " 'A23': 8,\n",
       " 'A24': 9,\n",
       " 'A26': 10,\n",
       " 'A29': 11,\n",
       " 'A31': 12,\n",
       " 'A32': 13,\n",
       " 'A34': 14,\n",
       " 'A36': 15,\n",
       " 'A5': 16,\n",
       " 'A6': 17,\n",
       " 'A7': 18,\n",
       " 'A9': 19,\n",
       " 'B10': 20,\n",
       " 'B101': 21,\n",
       " 'B102': 22,\n",
       " 'B11': 23,\n",
       " 'B18': 24,\n",
       " 'B19': 25,\n",
       " 'B20': 26,\n",
       " 'B22': 27,\n",
       " 'B24': 28,\n",
       " 'B26': 29,\n",
       " 'B28': 30,\n",
       " 'B3': 31,\n",
       " 'B30': 32,\n",
       " 'B35': 33,\n",
       " 'B36': 34,\n",
       " 'B37': 35,\n",
       " 'B38': 36,\n",
       " 'B39': 37,\n",
       " 'B4': 38,\n",
       " 'B41': 39,\n",
       " 'B42': 40,\n",
       " 'B45': 41,\n",
       " 'B49': 42,\n",
       " 'B5': 43,\n",
       " 'B50': 44,\n",
       " 'B51 B53 B55': 45,\n",
       " 'B52 B54 B56': 46,\n",
       " 'B57 B59 B63 B66': 47,\n",
       " 'B58 B60': 48,\n",
       " 'B61': 49,\n",
       " 'B69': 50,\n",
       " 'B71': 51,\n",
       " 'B73': 52,\n",
       " 'B77': 53,\n",
       " 'B78': 54,\n",
       " 'B79': 55,\n",
       " 'B80': 56,\n",
       " 'B82 B84': 57,\n",
       " 'B86': 58,\n",
       " 'B94': 59,\n",
       " 'B96 B98': 60,\n",
       " 'C101': 61,\n",
       " 'C103': 62,\n",
       " 'C104': 63,\n",
       " 'C105': 64,\n",
       " 'C106': 65,\n",
       " 'C110': 66,\n",
       " 'C111': 67,\n",
       " 'C116': 68,\n",
       " 'C118': 69,\n",
       " 'C123': 70,\n",
       " 'C124': 71,\n",
       " 'C125': 72,\n",
       " 'C126': 73,\n",
       " 'C128': 74,\n",
       " 'C130': 75,\n",
       " 'C132': 76,\n",
       " 'C148': 77,\n",
       " 'C2': 78,\n",
       " 'C22 C26': 79,\n",
       " 'C23 C25 C27': 80,\n",
       " 'C28': 81,\n",
       " 'C30': 82,\n",
       " 'C31': 83,\n",
       " 'C32': 84,\n",
       " 'C39': 85,\n",
       " 'C45': 86,\n",
       " 'C46': 87,\n",
       " 'C47': 88,\n",
       " 'C49': 89,\n",
       " 'C50': 90,\n",
       " 'C51': 91,\n",
       " 'C52': 92,\n",
       " 'C53': 93,\n",
       " 'C54': 94,\n",
       " 'C55 C57': 95,\n",
       " 'C6': 96,\n",
       " 'C62 C64': 97,\n",
       " 'C65': 98,\n",
       " 'C68': 99,\n",
       " 'C7': 100,\n",
       " 'C70': 101,\n",
       " 'C78': 102,\n",
       " 'C80': 103,\n",
       " 'C82': 104,\n",
       " 'C83': 105,\n",
       " 'C85': 106,\n",
       " 'C86': 107,\n",
       " 'C87': 108,\n",
       " 'C89': 109,\n",
       " 'C90': 110,\n",
       " 'C91': 111,\n",
       " 'C92': 112,\n",
       " 'C93': 113,\n",
       " 'C95': 114,\n",
       " 'C97': 115,\n",
       " 'C99': 116,\n",
       " 'D': 117,\n",
       " 'D10 D12': 118,\n",
       " 'D11': 119,\n",
       " 'D15': 120,\n",
       " 'D17': 121,\n",
       " 'D19': 122,\n",
       " 'D20': 123,\n",
       " 'D21': 124,\n",
       " 'D22': 125,\n",
       " 'D26': 126,\n",
       " 'D28': 127,\n",
       " 'D30': 128,\n",
       " 'D33': 129,\n",
       " 'D34': 130,\n",
       " 'D35': 131,\n",
       " 'D36': 132,\n",
       " 'D37': 133,\n",
       " 'D38': 134,\n",
       " 'D40': 135,\n",
       " 'D43': 136,\n",
       " 'D45': 137,\n",
       " 'D46': 138,\n",
       " 'D47': 139,\n",
       " 'D48': 140,\n",
       " 'D49': 141,\n",
       " 'D50': 142,\n",
       " 'D56': 143,\n",
       " 'D6': 144,\n",
       " 'D7': 145,\n",
       " 'D9': 146,\n",
       " 'E10': 147,\n",
       " 'E101': 148,\n",
       " 'E12': 149,\n",
       " 'E121': 150,\n",
       " 'E17': 151,\n",
       " 'E24': 152,\n",
       " 'E25': 153,\n",
       " 'E31': 154,\n",
       " 'E33': 155,\n",
       " 'E34': 156,\n",
       " 'E36': 157,\n",
       " 'E38': 158,\n",
       " 'E39 E41': 159,\n",
       " 'E40': 160,\n",
       " 'E44': 161,\n",
       " 'E45': 162,\n",
       " 'E46': 163,\n",
       " 'E49': 164,\n",
       " 'E50': 165,\n",
       " 'E52': 166,\n",
       " 'E58': 167,\n",
       " 'E60': 168,\n",
       " 'E63': 169,\n",
       " 'E67': 170,\n",
       " 'E68': 171,\n",
       " 'E77': 172,\n",
       " 'E8': 173,\n",
       " 'F': 174,\n",
       " 'F E46': 175,\n",
       " 'F E57': 176,\n",
       " 'F E69': 177,\n",
       " 'F G63': 178,\n",
       " 'F G73': 179,\n",
       " 'F2': 180,\n",
       " 'F33': 181,\n",
       " 'F38': 182,\n",
       " 'F4': 183,\n",
       " 'G6': 184,\n",
       " 'T': 185,\n",
       " 'UNKNOWN': 186}"
      ]
     },
     "execution_count": 12,
     "metadata": {},
     "output_type": "execute_result"
    }
   ],
   "source": [
    "mapping_d"
   ]
  },
  {
   "cell_type": "code",
   "execution_count": 13,
   "id": "wrong-background",
   "metadata": {
    "execution": {
     "iopub.execute_input": "2021-07-14T05:48:00.438473Z",
     "iopub.status.busy": "2021-07-14T05:48:00.437460Z",
     "iopub.status.idle": "2021-07-14T05:48:00.450543Z",
     "shell.execute_reply": "2021-07-14T05:48:00.451129Z",
     "shell.execute_reply.started": "2021-07-14T05:44:10.698611Z"
    },
    "papermill": {
     "duration": 0.054714,
     "end_time": "2021-07-14T05:48:00.451307",
     "exception": false,
     "start_time": "2021-07-14T05:48:00.396593",
     "status": "completed"
    },
    "tags": []
   },
   "outputs": [
    {
     "name": "stderr",
     "output_type": "stream",
     "text": [
      "/opt/conda/lib/python3.7/site-packages/category_encoders/utils.py:21: FutureWarning: is_categorical is deprecated and will be removed in a future version.  Use is_categorical_dtype instead\n",
      "  elif pd.api.types.is_categorical(cols):\n"
     ]
    }
   ],
   "source": [
    "df_train = encoder.fit_transform(df_train)"
   ]
  },
  {
   "cell_type": "code",
   "execution_count": 14,
   "id": "manufactured-chancellor",
   "metadata": {
    "execution": {
     "iopub.execute_input": "2021-07-14T05:48:00.528503Z",
     "iopub.status.busy": "2021-07-14T05:48:00.527551Z",
     "iopub.status.idle": "2021-07-14T05:48:00.537961Z",
     "shell.execute_reply": "2021-07-14T05:48:00.538499Z",
     "shell.execute_reply.started": "2021-07-14T05:44:10.715815Z"
    },
    "papermill": {
     "duration": 0.050378,
     "end_time": "2021-07-14T05:48:00.538671",
     "exception": false,
     "start_time": "2021-07-14T05:48:00.488293",
     "status": "completed"
    },
    "tags": []
   },
   "outputs": [],
   "source": [
    "df_test = encoder.fit_transform(df_test)"
   ]
  },
  {
   "cell_type": "code",
   "execution_count": 15,
   "id": "blind-austin",
   "metadata": {
    "execution": {
     "iopub.execute_input": "2021-07-14T05:48:00.615866Z",
     "iopub.status.busy": "2021-07-14T05:48:00.614911Z",
     "iopub.status.idle": "2021-07-14T05:48:00.630274Z",
     "shell.execute_reply": "2021-07-14T05:48:00.630777Z",
     "shell.execute_reply.started": "2021-07-14T05:44:10.729556Z"
    },
    "papermill": {
     "duration": 0.055503,
     "end_time": "2021-07-14T05:48:00.630969",
     "exception": false,
     "start_time": "2021-07-14T05:48:00.575466",
     "status": "completed"
    },
    "tags": []
   },
   "outputs": [
    {
     "data": {
      "text/html": [
       "<div>\n",
       "<style scoped>\n",
       "    .dataframe tbody tr th:only-of-type {\n",
       "        vertical-align: middle;\n",
       "    }\n",
       "\n",
       "    .dataframe tbody tr th {\n",
       "        vertical-align: top;\n",
       "    }\n",
       "\n",
       "    .dataframe thead th {\n",
       "        text-align: right;\n",
       "    }\n",
       "</style>\n",
       "<table border=\"1\" class=\"dataframe\">\n",
       "  <thead>\n",
       "    <tr style=\"text-align: right;\">\n",
       "      <th></th>\n",
       "      <th>Survived</th>\n",
       "      <th>Pclass</th>\n",
       "      <th>Sex</th>\n",
       "      <th>Age</th>\n",
       "      <th>SibSp</th>\n",
       "      <th>Parch</th>\n",
       "      <th>Fare</th>\n",
       "      <th>Cabin</th>\n",
       "      <th>Embarked</th>\n",
       "    </tr>\n",
       "  </thead>\n",
       "  <tbody>\n",
       "    <tr>\n",
       "      <th>0</th>\n",
       "      <td>0</td>\n",
       "      <td>3</td>\n",
       "      <td>male</td>\n",
       "      <td>22.0</td>\n",
       "      <td>1</td>\n",
       "      <td>0</td>\n",
       "      <td>7.2500</td>\n",
       "      <td>186</td>\n",
       "      <td>S</td>\n",
       "    </tr>\n",
       "    <tr>\n",
       "      <th>1</th>\n",
       "      <td>1</td>\n",
       "      <td>1</td>\n",
       "      <td>female</td>\n",
       "      <td>38.0</td>\n",
       "      <td>1</td>\n",
       "      <td>0</td>\n",
       "      <td>71.2833</td>\n",
       "      <td>106</td>\n",
       "      <td>C</td>\n",
       "    </tr>\n",
       "    <tr>\n",
       "      <th>2</th>\n",
       "      <td>1</td>\n",
       "      <td>3</td>\n",
       "      <td>female</td>\n",
       "      <td>26.0</td>\n",
       "      <td>0</td>\n",
       "      <td>0</td>\n",
       "      <td>7.9250</td>\n",
       "      <td>186</td>\n",
       "      <td>S</td>\n",
       "    </tr>\n",
       "    <tr>\n",
       "      <th>3</th>\n",
       "      <td>1</td>\n",
       "      <td>1</td>\n",
       "      <td>female</td>\n",
       "      <td>35.0</td>\n",
       "      <td>1</td>\n",
       "      <td>0</td>\n",
       "      <td>53.1000</td>\n",
       "      <td>70</td>\n",
       "      <td>S</td>\n",
       "    </tr>\n",
       "    <tr>\n",
       "      <th>4</th>\n",
       "      <td>0</td>\n",
       "      <td>3</td>\n",
       "      <td>male</td>\n",
       "      <td>35.0</td>\n",
       "      <td>0</td>\n",
       "      <td>0</td>\n",
       "      <td>8.0500</td>\n",
       "      <td>186</td>\n",
       "      <td>S</td>\n",
       "    </tr>\n",
       "  </tbody>\n",
       "</table>\n",
       "</div>"
      ],
      "text/plain": [
       "   Survived  Pclass     Sex   Age  SibSp  Parch     Fare  Cabin Embarked\n",
       "0         0       3    male  22.0      1      0   7.2500    186        S\n",
       "1         1       1  female  38.0      1      0  71.2833    106        C\n",
       "2         1       3  female  26.0      0      0   7.9250    186        S\n",
       "3         1       1  female  35.0      1      0  53.1000     70        S\n",
       "4         0       3    male  35.0      0      0   8.0500    186        S"
      ]
     },
     "execution_count": 15,
     "metadata": {},
     "output_type": "execute_result"
    }
   ],
   "source": [
    "df_train.head()"
   ]
  },
  {
   "cell_type": "code",
   "execution_count": 16,
   "id": "given-friendly",
   "metadata": {
    "execution": {
     "iopub.execute_input": "2021-07-14T05:48:00.713366Z",
     "iopub.status.busy": "2021-07-14T05:48:00.712384Z",
     "iopub.status.idle": "2021-07-14T05:48:00.728010Z",
     "shell.execute_reply": "2021-07-14T05:48:00.727406Z",
     "shell.execute_reply.started": "2021-07-14T05:44:10.745261Z"
    },
    "papermill": {
     "duration": 0.05561,
     "end_time": "2021-07-14T05:48:00.728177",
     "exception": false,
     "start_time": "2021-07-14T05:48:00.672567",
     "status": "completed"
    },
    "tags": []
   },
   "outputs": [
    {
     "data": {
      "text/html": [
       "<div>\n",
       "<style scoped>\n",
       "    .dataframe tbody tr th:only-of-type {\n",
       "        vertical-align: middle;\n",
       "    }\n",
       "\n",
       "    .dataframe tbody tr th {\n",
       "        vertical-align: top;\n",
       "    }\n",
       "\n",
       "    .dataframe thead th {\n",
       "        text-align: right;\n",
       "    }\n",
       "</style>\n",
       "<table border=\"1\" class=\"dataframe\">\n",
       "  <thead>\n",
       "    <tr style=\"text-align: right;\">\n",
       "      <th></th>\n",
       "      <th>Pclass</th>\n",
       "      <th>Sex</th>\n",
       "      <th>Age</th>\n",
       "      <th>SibSp</th>\n",
       "      <th>Parch</th>\n",
       "      <th>Fare</th>\n",
       "      <th>Cabin</th>\n",
       "      <th>Embarked</th>\n",
       "    </tr>\n",
       "  </thead>\n",
       "  <tbody>\n",
       "    <tr>\n",
       "      <th>0</th>\n",
       "      <td>3</td>\n",
       "      <td>male</td>\n",
       "      <td>34.5</td>\n",
       "      <td>0</td>\n",
       "      <td>0</td>\n",
       "      <td>7.8292</td>\n",
       "      <td>186</td>\n",
       "      <td>Q</td>\n",
       "    </tr>\n",
       "    <tr>\n",
       "      <th>1</th>\n",
       "      <td>3</td>\n",
       "      <td>female</td>\n",
       "      <td>47.0</td>\n",
       "      <td>1</td>\n",
       "      <td>0</td>\n",
       "      <td>7.0000</td>\n",
       "      <td>186</td>\n",
       "      <td>S</td>\n",
       "    </tr>\n",
       "    <tr>\n",
       "      <th>2</th>\n",
       "      <td>2</td>\n",
       "      <td>male</td>\n",
       "      <td>62.0</td>\n",
       "      <td>0</td>\n",
       "      <td>0</td>\n",
       "      <td>9.6875</td>\n",
       "      <td>186</td>\n",
       "      <td>Q</td>\n",
       "    </tr>\n",
       "    <tr>\n",
       "      <th>3</th>\n",
       "      <td>3</td>\n",
       "      <td>male</td>\n",
       "      <td>27.0</td>\n",
       "      <td>0</td>\n",
       "      <td>0</td>\n",
       "      <td>8.6625</td>\n",
       "      <td>186</td>\n",
       "      <td>S</td>\n",
       "    </tr>\n",
       "    <tr>\n",
       "      <th>4</th>\n",
       "      <td>3</td>\n",
       "      <td>female</td>\n",
       "      <td>22.0</td>\n",
       "      <td>1</td>\n",
       "      <td>1</td>\n",
       "      <td>12.2875</td>\n",
       "      <td>186</td>\n",
       "      <td>S</td>\n",
       "    </tr>\n",
       "  </tbody>\n",
       "</table>\n",
       "</div>"
      ],
      "text/plain": [
       "   Pclass     Sex   Age  SibSp  Parch     Fare  Cabin Embarked\n",
       "0       3    male  34.5      0      0   7.8292    186        Q\n",
       "1       3  female  47.0      1      0   7.0000    186        S\n",
       "2       2    male  62.0      0      0   9.6875    186        Q\n",
       "3       3    male  27.0      0      0   8.6625    186        S\n",
       "4       3  female  22.0      1      1  12.2875    186        S"
      ]
     },
     "execution_count": 16,
     "metadata": {},
     "output_type": "execute_result"
    }
   ],
   "source": [
    "df_test.head()"
   ]
  },
  {
   "cell_type": "markdown",
   "id": "prescription-plant",
   "metadata": {
    "papermill": {
     "duration": 0.0373,
     "end_time": "2021-07-14T05:48:00.806948",
     "exception": false,
     "start_time": "2021-07-14T05:48:00.769648",
     "status": "completed"
    },
    "tags": []
   },
   "source": [
    "For the other categorical variables, there are no null values from the EDA. So we can proceed to encode them with Scikit-learn's `LabelEncoder`:"
   ]
  },
  {
   "cell_type": "code",
   "execution_count": 17,
   "id": "looking-thriller",
   "metadata": {
    "execution": {
     "iopub.execute_input": "2021-07-14T05:48:00.885761Z",
     "iopub.status.busy": "2021-07-14T05:48:00.884989Z",
     "iopub.status.idle": "2021-07-14T05:48:00.892006Z",
     "shell.execute_reply": "2021-07-14T05:48:00.892573Z",
     "shell.execute_reply.started": "2021-07-14T05:44:10.764675Z"
    },
    "papermill": {
     "duration": 0.048132,
     "end_time": "2021-07-14T05:48:00.892756",
     "exception": false,
     "start_time": "2021-07-14T05:48:00.844624",
     "status": "completed"
    },
    "tags": []
   },
   "outputs": [],
   "source": [
    "cols_to_encode = ['Sex', 'Embarked']\n",
    "for col in cols_to_encode:\n",
    "    le = LabelEncoder()\n",
    "    le.fit(df_train[col])\n",
    "    \n",
    "    df_train[col] = le.transform(df_train[col])\n",
    "    df_test[col] = le.transform(df_test[col])"
   ]
  },
  {
   "cell_type": "code",
   "execution_count": 18,
   "id": "fifteen-cooking",
   "metadata": {
    "execution": {
     "iopub.execute_input": "2021-07-14T05:48:00.971590Z",
     "iopub.status.busy": "2021-07-14T05:48:00.970968Z",
     "iopub.status.idle": "2021-07-14T05:48:00.984034Z",
     "shell.execute_reply": "2021-07-14T05:48:00.984549Z",
     "shell.execute_reply.started": "2021-07-14T05:44:10.777919Z"
    },
    "papermill": {
     "duration": 0.053905,
     "end_time": "2021-07-14T05:48:00.984724",
     "exception": false,
     "start_time": "2021-07-14T05:48:00.930819",
     "status": "completed"
    },
    "tags": []
   },
   "outputs": [
    {
     "data": {
      "text/html": [
       "<div>\n",
       "<style scoped>\n",
       "    .dataframe tbody tr th:only-of-type {\n",
       "        vertical-align: middle;\n",
       "    }\n",
       "\n",
       "    .dataframe tbody tr th {\n",
       "        vertical-align: top;\n",
       "    }\n",
       "\n",
       "    .dataframe thead th {\n",
       "        text-align: right;\n",
       "    }\n",
       "</style>\n",
       "<table border=\"1\" class=\"dataframe\">\n",
       "  <thead>\n",
       "    <tr style=\"text-align: right;\">\n",
       "      <th></th>\n",
       "      <th>Survived</th>\n",
       "      <th>Pclass</th>\n",
       "      <th>Sex</th>\n",
       "      <th>Age</th>\n",
       "      <th>SibSp</th>\n",
       "      <th>Parch</th>\n",
       "      <th>Fare</th>\n",
       "      <th>Cabin</th>\n",
       "      <th>Embarked</th>\n",
       "    </tr>\n",
       "  </thead>\n",
       "  <tbody>\n",
       "    <tr>\n",
       "      <th>0</th>\n",
       "      <td>0</td>\n",
       "      <td>3</td>\n",
       "      <td>1</td>\n",
       "      <td>22.0</td>\n",
       "      <td>1</td>\n",
       "      <td>0</td>\n",
       "      <td>7.2500</td>\n",
       "      <td>186</td>\n",
       "      <td>2</td>\n",
       "    </tr>\n",
       "    <tr>\n",
       "      <th>1</th>\n",
       "      <td>1</td>\n",
       "      <td>1</td>\n",
       "      <td>0</td>\n",
       "      <td>38.0</td>\n",
       "      <td>1</td>\n",
       "      <td>0</td>\n",
       "      <td>71.2833</td>\n",
       "      <td>106</td>\n",
       "      <td>0</td>\n",
       "    </tr>\n",
       "    <tr>\n",
       "      <th>2</th>\n",
       "      <td>1</td>\n",
       "      <td>3</td>\n",
       "      <td>0</td>\n",
       "      <td>26.0</td>\n",
       "      <td>0</td>\n",
       "      <td>0</td>\n",
       "      <td>7.9250</td>\n",
       "      <td>186</td>\n",
       "      <td>2</td>\n",
       "    </tr>\n",
       "    <tr>\n",
       "      <th>3</th>\n",
       "      <td>1</td>\n",
       "      <td>1</td>\n",
       "      <td>0</td>\n",
       "      <td>35.0</td>\n",
       "      <td>1</td>\n",
       "      <td>0</td>\n",
       "      <td>53.1000</td>\n",
       "      <td>70</td>\n",
       "      <td>2</td>\n",
       "    </tr>\n",
       "    <tr>\n",
       "      <th>4</th>\n",
       "      <td>0</td>\n",
       "      <td>3</td>\n",
       "      <td>1</td>\n",
       "      <td>35.0</td>\n",
       "      <td>0</td>\n",
       "      <td>0</td>\n",
       "      <td>8.0500</td>\n",
       "      <td>186</td>\n",
       "      <td>2</td>\n",
       "    </tr>\n",
       "  </tbody>\n",
       "</table>\n",
       "</div>"
      ],
      "text/plain": [
       "   Survived  Pclass  Sex   Age  SibSp  Parch     Fare  Cabin  Embarked\n",
       "0         0       3    1  22.0      1      0   7.2500    186         2\n",
       "1         1       1    0  38.0      1      0  71.2833    106         0\n",
       "2         1       3    0  26.0      0      0   7.9250    186         2\n",
       "3         1       1    0  35.0      1      0  53.1000     70         2\n",
       "4         0       3    1  35.0      0      0   8.0500    186         2"
      ]
     },
     "execution_count": 18,
     "metadata": {},
     "output_type": "execute_result"
    }
   ],
   "source": [
    "df_train.head()"
   ]
  },
  {
   "cell_type": "code",
   "execution_count": 19,
   "id": "level-catalyst",
   "metadata": {
    "execution": {
     "iopub.execute_input": "2021-07-14T05:48:01.065487Z",
     "iopub.status.busy": "2021-07-14T05:48:01.064841Z",
     "iopub.status.idle": "2021-07-14T05:48:01.077463Z",
     "shell.execute_reply": "2021-07-14T05:48:01.077952Z",
     "shell.execute_reply.started": "2021-07-14T05:44:10.794911Z"
    },
    "papermill": {
     "duration": 0.054671,
     "end_time": "2021-07-14T05:48:01.078136",
     "exception": false,
     "start_time": "2021-07-14T05:48:01.023465",
     "status": "completed"
    },
    "tags": []
   },
   "outputs": [
    {
     "data": {
      "text/html": [
       "<div>\n",
       "<style scoped>\n",
       "    .dataframe tbody tr th:only-of-type {\n",
       "        vertical-align: middle;\n",
       "    }\n",
       "\n",
       "    .dataframe tbody tr th {\n",
       "        vertical-align: top;\n",
       "    }\n",
       "\n",
       "    .dataframe thead th {\n",
       "        text-align: right;\n",
       "    }\n",
       "</style>\n",
       "<table border=\"1\" class=\"dataframe\">\n",
       "  <thead>\n",
       "    <tr style=\"text-align: right;\">\n",
       "      <th></th>\n",
       "      <th>Pclass</th>\n",
       "      <th>Sex</th>\n",
       "      <th>Age</th>\n",
       "      <th>SibSp</th>\n",
       "      <th>Parch</th>\n",
       "      <th>Fare</th>\n",
       "      <th>Cabin</th>\n",
       "      <th>Embarked</th>\n",
       "    </tr>\n",
       "  </thead>\n",
       "  <tbody>\n",
       "    <tr>\n",
       "      <th>0</th>\n",
       "      <td>3</td>\n",
       "      <td>1</td>\n",
       "      <td>34.5</td>\n",
       "      <td>0</td>\n",
       "      <td>0</td>\n",
       "      <td>7.8292</td>\n",
       "      <td>186</td>\n",
       "      <td>1</td>\n",
       "    </tr>\n",
       "    <tr>\n",
       "      <th>1</th>\n",
       "      <td>3</td>\n",
       "      <td>0</td>\n",
       "      <td>47.0</td>\n",
       "      <td>1</td>\n",
       "      <td>0</td>\n",
       "      <td>7.0000</td>\n",
       "      <td>186</td>\n",
       "      <td>2</td>\n",
       "    </tr>\n",
       "    <tr>\n",
       "      <th>2</th>\n",
       "      <td>2</td>\n",
       "      <td>1</td>\n",
       "      <td>62.0</td>\n",
       "      <td>0</td>\n",
       "      <td>0</td>\n",
       "      <td>9.6875</td>\n",
       "      <td>186</td>\n",
       "      <td>1</td>\n",
       "    </tr>\n",
       "    <tr>\n",
       "      <th>3</th>\n",
       "      <td>3</td>\n",
       "      <td>1</td>\n",
       "      <td>27.0</td>\n",
       "      <td>0</td>\n",
       "      <td>0</td>\n",
       "      <td>8.6625</td>\n",
       "      <td>186</td>\n",
       "      <td>2</td>\n",
       "    </tr>\n",
       "    <tr>\n",
       "      <th>4</th>\n",
       "      <td>3</td>\n",
       "      <td>0</td>\n",
       "      <td>22.0</td>\n",
       "      <td>1</td>\n",
       "      <td>1</td>\n",
       "      <td>12.2875</td>\n",
       "      <td>186</td>\n",
       "      <td>2</td>\n",
       "    </tr>\n",
       "  </tbody>\n",
       "</table>\n",
       "</div>"
      ],
      "text/plain": [
       "   Pclass  Sex   Age  SibSp  Parch     Fare  Cabin  Embarked\n",
       "0       3    1  34.5      0      0   7.8292    186         1\n",
       "1       3    0  47.0      1      0   7.0000    186         2\n",
       "2       2    1  62.0      0      0   9.6875    186         1\n",
       "3       3    1  27.0      0      0   8.6625    186         2\n",
       "4       3    0  22.0      1      1  12.2875    186         2"
      ]
     },
     "execution_count": 19,
     "metadata": {},
     "output_type": "execute_result"
    }
   ],
   "source": [
    "df_test.head()"
   ]
  },
  {
   "cell_type": "markdown",
   "id": "industrial-howard",
   "metadata": {
    "papermill": {
     "duration": 0.03885,
     "end_time": "2021-07-14T05:48:01.157577",
     "exception": false,
     "start_time": "2021-07-14T05:48:01.118727",
     "status": "completed"
    },
    "tags": []
   },
   "source": [
    "Note that there are missing values in `Age` and `Fare`. For such cases, we impute them with `-1`."
   ]
  },
  {
   "cell_type": "code",
   "execution_count": 20,
   "id": "loaded-assumption",
   "metadata": {
    "execution": {
     "iopub.execute_input": "2021-07-14T05:48:01.239188Z",
     "iopub.status.busy": "2021-07-14T05:48:01.238471Z",
     "iopub.status.idle": "2021-07-14T05:48:01.245456Z",
     "shell.execute_reply": "2021-07-14T05:48:01.245924Z",
     "shell.execute_reply.started": "2021-07-14T05:44:10.810962Z"
    },
    "papermill": {
     "duration": 0.049311,
     "end_time": "2021-07-14T05:48:01.246119",
     "exception": false,
     "start_time": "2021-07-14T05:48:01.196808",
     "status": "completed"
    },
    "tags": []
   },
   "outputs": [],
   "source": [
    "df_train['Age'] = df_train['Age'].replace(np.NaN, -1)\n",
    "df_test['Age'] = df_test['Age'].replace(np.NaN, -1)\n",
    "df_train['Fare'] = df_train['Fare'].replace(np.NaN, -1)\n",
    "df_test['Fare'] = df_test['Fare'].replace(np.NaN, -1)"
   ]
  },
  {
   "cell_type": "markdown",
   "id": "velvet-vegetation",
   "metadata": {
    "papermill": {
     "duration": 0.03885,
     "end_time": "2021-07-14T05:48:01.324345",
     "exception": false,
     "start_time": "2021-07-14T05:48:01.285495",
     "status": "completed"
    },
    "tags": []
   },
   "source": [
    "Some sanity check..."
   ]
  },
  {
   "cell_type": "code",
   "execution_count": 21,
   "id": "synthetic-cincinnati",
   "metadata": {
    "execution": {
     "iopub.execute_input": "2021-07-14T05:48:01.406598Z",
     "iopub.status.busy": "2021-07-14T05:48:01.405944Z",
     "iopub.status.idle": "2021-07-14T05:48:01.419284Z",
     "shell.execute_reply": "2021-07-14T05:48:01.418619Z",
     "shell.execute_reply.started": "2021-07-14T05:44:10.823718Z"
    },
    "papermill": {
     "duration": 0.055206,
     "end_time": "2021-07-14T05:48:01.419429",
     "exception": false,
     "start_time": "2021-07-14T05:48:01.364223",
     "status": "completed"
    },
    "tags": []
   },
   "outputs": [
    {
     "data": {
      "text/html": [
       "<div>\n",
       "<style scoped>\n",
       "    .dataframe tbody tr th:only-of-type {\n",
       "        vertical-align: middle;\n",
       "    }\n",
       "\n",
       "    .dataframe tbody tr th {\n",
       "        vertical-align: top;\n",
       "    }\n",
       "\n",
       "    .dataframe thead th {\n",
       "        text-align: right;\n",
       "    }\n",
       "</style>\n",
       "<table border=\"1\" class=\"dataframe\">\n",
       "  <thead>\n",
       "    <tr style=\"text-align: right;\">\n",
       "      <th></th>\n",
       "      <th>Survived</th>\n",
       "      <th>Pclass</th>\n",
       "      <th>Sex</th>\n",
       "      <th>Age</th>\n",
       "      <th>SibSp</th>\n",
       "      <th>Parch</th>\n",
       "      <th>Fare</th>\n",
       "      <th>Cabin</th>\n",
       "      <th>Embarked</th>\n",
       "    </tr>\n",
       "  </thead>\n",
       "  <tbody>\n",
       "  </tbody>\n",
       "</table>\n",
       "</div>"
      ],
      "text/plain": [
       "Empty DataFrame\n",
       "Columns: [Survived, Pclass, Sex, Age, SibSp, Parch, Fare, Cabin, Embarked]\n",
       "Index: []"
      ]
     },
     "execution_count": 21,
     "metadata": {},
     "output_type": "execute_result"
    }
   ],
   "source": [
    "df_train[df_train.isna().any(axis=1)]"
   ]
  },
  {
   "cell_type": "code",
   "execution_count": 22,
   "id": "hungarian-browser",
   "metadata": {
    "execution": {
     "iopub.execute_input": "2021-07-14T05:48:01.503865Z",
     "iopub.status.busy": "2021-07-14T05:48:01.503126Z",
     "iopub.status.idle": "2021-07-14T05:48:01.513134Z",
     "shell.execute_reply": "2021-07-14T05:48:01.513616Z",
     "shell.execute_reply.started": "2021-07-14T05:44:10.847171Z"
    },
    "papermill": {
     "duration": 0.054242,
     "end_time": "2021-07-14T05:48:01.513815",
     "exception": false,
     "start_time": "2021-07-14T05:48:01.459573",
     "status": "completed"
    },
    "tags": []
   },
   "outputs": [
    {
     "data": {
      "text/html": [
       "<div>\n",
       "<style scoped>\n",
       "    .dataframe tbody tr th:only-of-type {\n",
       "        vertical-align: middle;\n",
       "    }\n",
       "\n",
       "    .dataframe tbody tr th {\n",
       "        vertical-align: top;\n",
       "    }\n",
       "\n",
       "    .dataframe thead th {\n",
       "        text-align: right;\n",
       "    }\n",
       "</style>\n",
       "<table border=\"1\" class=\"dataframe\">\n",
       "  <thead>\n",
       "    <tr style=\"text-align: right;\">\n",
       "      <th></th>\n",
       "      <th>Pclass</th>\n",
       "      <th>Sex</th>\n",
       "      <th>Age</th>\n",
       "      <th>SibSp</th>\n",
       "      <th>Parch</th>\n",
       "      <th>Fare</th>\n",
       "      <th>Cabin</th>\n",
       "      <th>Embarked</th>\n",
       "    </tr>\n",
       "  </thead>\n",
       "  <tbody>\n",
       "  </tbody>\n",
       "</table>\n",
       "</div>"
      ],
      "text/plain": [
       "Empty DataFrame\n",
       "Columns: [Pclass, Sex, Age, SibSp, Parch, Fare, Cabin, Embarked]\n",
       "Index: []"
      ]
     },
     "execution_count": 22,
     "metadata": {},
     "output_type": "execute_result"
    }
   ],
   "source": [
    "df_test[df_test.isna().any(axis=1)]"
   ]
  },
  {
   "cell_type": "markdown",
   "id": "affiliated-north",
   "metadata": {
    "papermill": {
     "duration": 0.039458,
     "end_time": "2021-07-14T05:48:01.593327",
     "exception": false,
     "start_time": "2021-07-14T05:48:01.553869",
     "status": "completed"
    },
    "tags": []
   },
   "source": [
    "# Feature Engineering"
   ]
  },
  {
   "cell_type": "markdown",
   "id": "invisible-neighbor",
   "metadata": {
    "papermill": {
     "duration": 0.039461,
     "end_time": "2021-07-14T05:48:01.672420",
     "exception": false,
     "start_time": "2021-07-14T05:48:01.632959",
     "status": "completed"
    },
    "tags": []
   },
   "source": [
    "## Stratify Age Into Groups\n",
    "\n",
    "Looking at our [EDA](https://www.kaggle.com/khoongweihao/part-1-exploratory-data-analysis-eda) for `Age`, we can see that most of the passengers are between 18-30 years of age. We can generate new features that group the passengers into different age groups."
   ]
  },
  {
   "cell_type": "code",
   "execution_count": 23,
   "id": "appreciated-settlement",
   "metadata": {
    "execution": {
     "iopub.execute_input": "2021-07-14T05:48:01.757975Z",
     "iopub.status.busy": "2021-07-14T05:48:01.756942Z",
     "iopub.status.idle": "2021-07-14T05:48:01.759292Z",
     "shell.execute_reply": "2021-07-14T05:48:01.759815Z",
     "shell.execute_reply.started": "2021-07-14T05:44:10.857465Z"
    },
    "papermill": {
     "duration": 0.04791,
     "end_time": "2021-07-14T05:48:01.759985",
     "exception": false,
     "start_time": "2021-07-14T05:48:01.712075",
     "status": "completed"
    },
    "tags": []
   },
   "outputs": [],
   "source": [
    "def age_group(x):\n",
    "    if x < 18:\n",
    "        return 'under_18'\n",
    "    elif x >= 18 and x <=30:\n",
    "        return '18_to_30'\n",
    "    else:\n",
    "        return 'above_30'"
   ]
  },
  {
   "cell_type": "code",
   "execution_count": 24,
   "id": "recreational-italy",
   "metadata": {
    "execution": {
     "iopub.execute_input": "2021-07-14T05:48:01.843975Z",
     "iopub.status.busy": "2021-07-14T05:48:01.842998Z",
     "iopub.status.idle": "2021-07-14T05:48:01.860851Z",
     "shell.execute_reply": "2021-07-14T05:48:01.861515Z",
     "shell.execute_reply.started": "2021-07-14T05:44:10.867190Z"
    },
    "papermill": {
     "duration": 0.061496,
     "end_time": "2021-07-14T05:48:01.861698",
     "exception": false,
     "start_time": "2021-07-14T05:48:01.800202",
     "status": "completed"
    },
    "tags": []
   },
   "outputs": [
    {
     "data": {
      "text/html": [
       "<div>\n",
       "<style scoped>\n",
       "    .dataframe tbody tr th:only-of-type {\n",
       "        vertical-align: middle;\n",
       "    }\n",
       "\n",
       "    .dataframe tbody tr th {\n",
       "        vertical-align: top;\n",
       "    }\n",
       "\n",
       "    .dataframe thead th {\n",
       "        text-align: right;\n",
       "    }\n",
       "</style>\n",
       "<table border=\"1\" class=\"dataframe\">\n",
       "  <thead>\n",
       "    <tr style=\"text-align: right;\">\n",
       "      <th></th>\n",
       "      <th>Survived</th>\n",
       "      <th>Pclass</th>\n",
       "      <th>Sex</th>\n",
       "      <th>Age</th>\n",
       "      <th>SibSp</th>\n",
       "      <th>Parch</th>\n",
       "      <th>Fare</th>\n",
       "      <th>Cabin</th>\n",
       "      <th>Embarked</th>\n",
       "      <th>Age_Group</th>\n",
       "    </tr>\n",
       "  </thead>\n",
       "  <tbody>\n",
       "    <tr>\n",
       "      <th>0</th>\n",
       "      <td>0</td>\n",
       "      <td>3</td>\n",
       "      <td>1</td>\n",
       "      <td>22.0</td>\n",
       "      <td>1</td>\n",
       "      <td>0</td>\n",
       "      <td>7.2500</td>\n",
       "      <td>186</td>\n",
       "      <td>2</td>\n",
       "      <td>18_to_30</td>\n",
       "    </tr>\n",
       "    <tr>\n",
       "      <th>1</th>\n",
       "      <td>1</td>\n",
       "      <td>1</td>\n",
       "      <td>0</td>\n",
       "      <td>38.0</td>\n",
       "      <td>1</td>\n",
       "      <td>0</td>\n",
       "      <td>71.2833</td>\n",
       "      <td>106</td>\n",
       "      <td>0</td>\n",
       "      <td>above_30</td>\n",
       "    </tr>\n",
       "    <tr>\n",
       "      <th>2</th>\n",
       "      <td>1</td>\n",
       "      <td>3</td>\n",
       "      <td>0</td>\n",
       "      <td>26.0</td>\n",
       "      <td>0</td>\n",
       "      <td>0</td>\n",
       "      <td>7.9250</td>\n",
       "      <td>186</td>\n",
       "      <td>2</td>\n",
       "      <td>18_to_30</td>\n",
       "    </tr>\n",
       "    <tr>\n",
       "      <th>3</th>\n",
       "      <td>1</td>\n",
       "      <td>1</td>\n",
       "      <td>0</td>\n",
       "      <td>35.0</td>\n",
       "      <td>1</td>\n",
       "      <td>0</td>\n",
       "      <td>53.1000</td>\n",
       "      <td>70</td>\n",
       "      <td>2</td>\n",
       "      <td>above_30</td>\n",
       "    </tr>\n",
       "    <tr>\n",
       "      <th>4</th>\n",
       "      <td>0</td>\n",
       "      <td>3</td>\n",
       "      <td>1</td>\n",
       "      <td>35.0</td>\n",
       "      <td>0</td>\n",
       "      <td>0</td>\n",
       "      <td>8.0500</td>\n",
       "      <td>186</td>\n",
       "      <td>2</td>\n",
       "      <td>above_30</td>\n",
       "    </tr>\n",
       "  </tbody>\n",
       "</table>\n",
       "</div>"
      ],
      "text/plain": [
       "   Survived  Pclass  Sex   Age  SibSp  Parch     Fare  Cabin  Embarked  \\\n",
       "0         0       3    1  22.0      1      0   7.2500    186         2   \n",
       "1         1       1    0  38.0      1      0  71.2833    106         0   \n",
       "2         1       3    0  26.0      0      0   7.9250    186         2   \n",
       "3         1       1    0  35.0      1      0  53.1000     70         2   \n",
       "4         0       3    1  35.0      0      0   8.0500    186         2   \n",
       "\n",
       "  Age_Group  \n",
       "0  18_to_30  \n",
       "1  above_30  \n",
       "2  18_to_30  \n",
       "3  above_30  \n",
       "4  above_30  "
      ]
     },
     "execution_count": 24,
     "metadata": {},
     "output_type": "execute_result"
    }
   ],
   "source": [
    "df_train['Age_Group'] = df_train['Age'].apply(lambda x: age_group(x))\n",
    "df_train.head()"
   ]
  },
  {
   "cell_type": "code",
   "execution_count": 25,
   "id": "purple-substance",
   "metadata": {
    "execution": {
     "iopub.execute_input": "2021-07-14T05:48:01.962559Z",
     "iopub.status.busy": "2021-07-14T05:48:01.961509Z",
     "iopub.status.idle": "2021-07-14T05:48:01.965729Z",
     "shell.execute_reply": "2021-07-14T05:48:01.966279Z",
     "shell.execute_reply.started": "2021-07-14T05:46:23.822318Z"
    },
    "papermill": {
     "duration": 0.06164,
     "end_time": "2021-07-14T05:48:01.966473",
     "exception": false,
     "start_time": "2021-07-14T05:48:01.904833",
     "status": "completed"
    },
    "tags": []
   },
   "outputs": [
    {
     "data": {
      "text/html": [
       "<div>\n",
       "<style scoped>\n",
       "    .dataframe tbody tr th:only-of-type {\n",
       "        vertical-align: middle;\n",
       "    }\n",
       "\n",
       "    .dataframe tbody tr th {\n",
       "        vertical-align: top;\n",
       "    }\n",
       "\n",
       "    .dataframe thead th {\n",
       "        text-align: right;\n",
       "    }\n",
       "</style>\n",
       "<table border=\"1\" class=\"dataframe\">\n",
       "  <thead>\n",
       "    <tr style=\"text-align: right;\">\n",
       "      <th></th>\n",
       "      <th>Pclass</th>\n",
       "      <th>Sex</th>\n",
       "      <th>Age</th>\n",
       "      <th>SibSp</th>\n",
       "      <th>Parch</th>\n",
       "      <th>Fare</th>\n",
       "      <th>Cabin</th>\n",
       "      <th>Embarked</th>\n",
       "      <th>Age_Group</th>\n",
       "    </tr>\n",
       "  </thead>\n",
       "  <tbody>\n",
       "    <tr>\n",
       "      <th>0</th>\n",
       "      <td>3</td>\n",
       "      <td>1</td>\n",
       "      <td>34.5</td>\n",
       "      <td>0</td>\n",
       "      <td>0</td>\n",
       "      <td>7.8292</td>\n",
       "      <td>186</td>\n",
       "      <td>1</td>\n",
       "      <td>above_30</td>\n",
       "    </tr>\n",
       "    <tr>\n",
       "      <th>1</th>\n",
       "      <td>3</td>\n",
       "      <td>0</td>\n",
       "      <td>47.0</td>\n",
       "      <td>1</td>\n",
       "      <td>0</td>\n",
       "      <td>7.0000</td>\n",
       "      <td>186</td>\n",
       "      <td>2</td>\n",
       "      <td>above_30</td>\n",
       "    </tr>\n",
       "    <tr>\n",
       "      <th>2</th>\n",
       "      <td>2</td>\n",
       "      <td>1</td>\n",
       "      <td>62.0</td>\n",
       "      <td>0</td>\n",
       "      <td>0</td>\n",
       "      <td>9.6875</td>\n",
       "      <td>186</td>\n",
       "      <td>1</td>\n",
       "      <td>above_30</td>\n",
       "    </tr>\n",
       "    <tr>\n",
       "      <th>3</th>\n",
       "      <td>3</td>\n",
       "      <td>1</td>\n",
       "      <td>27.0</td>\n",
       "      <td>0</td>\n",
       "      <td>0</td>\n",
       "      <td>8.6625</td>\n",
       "      <td>186</td>\n",
       "      <td>2</td>\n",
       "      <td>18_to_30</td>\n",
       "    </tr>\n",
       "    <tr>\n",
       "      <th>4</th>\n",
       "      <td>3</td>\n",
       "      <td>0</td>\n",
       "      <td>22.0</td>\n",
       "      <td>1</td>\n",
       "      <td>1</td>\n",
       "      <td>12.2875</td>\n",
       "      <td>186</td>\n",
       "      <td>2</td>\n",
       "      <td>18_to_30</td>\n",
       "    </tr>\n",
       "  </tbody>\n",
       "</table>\n",
       "</div>"
      ],
      "text/plain": [
       "   Pclass  Sex   Age  SibSp  Parch     Fare  Cabin  Embarked Age_Group\n",
       "0       3    1  34.5      0      0   7.8292    186         1  above_30\n",
       "1       3    0  47.0      1      0   7.0000    186         2  above_30\n",
       "2       2    1  62.0      0      0   9.6875    186         1  above_30\n",
       "3       3    1  27.0      0      0   8.6625    186         2  18_to_30\n",
       "4       3    0  22.0      1      1  12.2875    186         2  18_to_30"
      ]
     },
     "execution_count": 25,
     "metadata": {},
     "output_type": "execute_result"
    }
   ],
   "source": [
    "df_test['Age_Group'] = df_test['Age'].apply(lambda x: age_group(x))\n",
    "df_test.head()"
   ]
  },
  {
   "cell_type": "markdown",
   "id": "controlled-recycling",
   "metadata": {
    "papermill": {
     "duration": 0.040405,
     "end_time": "2021-07-14T05:48:02.051612",
     "exception": false,
     "start_time": "2021-07-14T05:48:02.011207",
     "status": "completed"
    },
    "tags": []
   },
   "source": [
    "Note that we have to encode again!"
   ]
  },
  {
   "cell_type": "code",
   "execution_count": 26,
   "id": "proprietary-minute",
   "metadata": {
    "execution": {
     "iopub.execute_input": "2021-07-14T05:48:02.140608Z",
     "iopub.status.busy": "2021-07-14T05:48:02.139895Z",
     "iopub.status.idle": "2021-07-14T05:48:02.142027Z",
     "shell.execute_reply": "2021-07-14T05:48:02.142506Z",
     "shell.execute_reply.started": "2021-07-14T05:46:29.800886Z"
    },
    "papermill": {
     "duration": 0.050273,
     "end_time": "2021-07-14T05:48:02.142685",
     "exception": false,
     "start_time": "2021-07-14T05:48:02.092412",
     "status": "completed"
    },
    "tags": []
   },
   "outputs": [],
   "source": [
    "cols_to_encode = ['Age_Group']\n",
    "for col in cols_to_encode:\n",
    "    le = LabelEncoder()\n",
    "    le.fit(df_train[col])\n",
    "    \n",
    "    df_train[col] = le.transform(df_train[col])\n",
    "    df_test[col] = le.transform(df_test[col])"
   ]
  },
  {
   "cell_type": "code",
   "execution_count": 27,
   "id": "sustained-forward",
   "metadata": {
    "execution": {
     "iopub.execute_input": "2021-07-14T05:48:02.228688Z",
     "iopub.status.busy": "2021-07-14T05:48:02.227763Z",
     "iopub.status.idle": "2021-07-14T05:48:02.242175Z",
     "shell.execute_reply": "2021-07-14T05:48:02.242689Z",
     "shell.execute_reply.started": "2021-07-14T05:46:34.570854Z"
    },
    "papermill": {
     "duration": 0.058711,
     "end_time": "2021-07-14T05:48:02.242887",
     "exception": false,
     "start_time": "2021-07-14T05:48:02.184176",
     "status": "completed"
    },
    "tags": []
   },
   "outputs": [
    {
     "data": {
      "text/html": [
       "<div>\n",
       "<style scoped>\n",
       "    .dataframe tbody tr th:only-of-type {\n",
       "        vertical-align: middle;\n",
       "    }\n",
       "\n",
       "    .dataframe tbody tr th {\n",
       "        vertical-align: top;\n",
       "    }\n",
       "\n",
       "    .dataframe thead th {\n",
       "        text-align: right;\n",
       "    }\n",
       "</style>\n",
       "<table border=\"1\" class=\"dataframe\">\n",
       "  <thead>\n",
       "    <tr style=\"text-align: right;\">\n",
       "      <th></th>\n",
       "      <th>Survived</th>\n",
       "      <th>Pclass</th>\n",
       "      <th>Sex</th>\n",
       "      <th>Age</th>\n",
       "      <th>SibSp</th>\n",
       "      <th>Parch</th>\n",
       "      <th>Fare</th>\n",
       "      <th>Cabin</th>\n",
       "      <th>Embarked</th>\n",
       "      <th>Age_Group</th>\n",
       "    </tr>\n",
       "  </thead>\n",
       "  <tbody>\n",
       "    <tr>\n",
       "      <th>0</th>\n",
       "      <td>0</td>\n",
       "      <td>3</td>\n",
       "      <td>1</td>\n",
       "      <td>22.0</td>\n",
       "      <td>1</td>\n",
       "      <td>0</td>\n",
       "      <td>7.2500</td>\n",
       "      <td>186</td>\n",
       "      <td>2</td>\n",
       "      <td>0</td>\n",
       "    </tr>\n",
       "    <tr>\n",
       "      <th>1</th>\n",
       "      <td>1</td>\n",
       "      <td>1</td>\n",
       "      <td>0</td>\n",
       "      <td>38.0</td>\n",
       "      <td>1</td>\n",
       "      <td>0</td>\n",
       "      <td>71.2833</td>\n",
       "      <td>106</td>\n",
       "      <td>0</td>\n",
       "      <td>1</td>\n",
       "    </tr>\n",
       "    <tr>\n",
       "      <th>2</th>\n",
       "      <td>1</td>\n",
       "      <td>3</td>\n",
       "      <td>0</td>\n",
       "      <td>26.0</td>\n",
       "      <td>0</td>\n",
       "      <td>0</td>\n",
       "      <td>7.9250</td>\n",
       "      <td>186</td>\n",
       "      <td>2</td>\n",
       "      <td>0</td>\n",
       "    </tr>\n",
       "    <tr>\n",
       "      <th>3</th>\n",
       "      <td>1</td>\n",
       "      <td>1</td>\n",
       "      <td>0</td>\n",
       "      <td>35.0</td>\n",
       "      <td>1</td>\n",
       "      <td>0</td>\n",
       "      <td>53.1000</td>\n",
       "      <td>70</td>\n",
       "      <td>2</td>\n",
       "      <td>1</td>\n",
       "    </tr>\n",
       "    <tr>\n",
       "      <th>4</th>\n",
       "      <td>0</td>\n",
       "      <td>3</td>\n",
       "      <td>1</td>\n",
       "      <td>35.0</td>\n",
       "      <td>0</td>\n",
       "      <td>0</td>\n",
       "      <td>8.0500</td>\n",
       "      <td>186</td>\n",
       "      <td>2</td>\n",
       "      <td>1</td>\n",
       "    </tr>\n",
       "  </tbody>\n",
       "</table>\n",
       "</div>"
      ],
      "text/plain": [
       "   Survived  Pclass  Sex   Age  SibSp  Parch     Fare  Cabin  Embarked  \\\n",
       "0         0       3    1  22.0      1      0   7.2500    186         2   \n",
       "1         1       1    0  38.0      1      0  71.2833    106         0   \n",
       "2         1       3    0  26.0      0      0   7.9250    186         2   \n",
       "3         1       1    0  35.0      1      0  53.1000     70         2   \n",
       "4         0       3    1  35.0      0      0   8.0500    186         2   \n",
       "\n",
       "   Age_Group  \n",
       "0          0  \n",
       "1          1  \n",
       "2          0  \n",
       "3          1  \n",
       "4          1  "
      ]
     },
     "execution_count": 27,
     "metadata": {},
     "output_type": "execute_result"
    }
   ],
   "source": [
    "df_train.head()"
   ]
  },
  {
   "cell_type": "code",
   "execution_count": 28,
   "id": "earned-coaching",
   "metadata": {
    "execution": {
     "iopub.execute_input": "2021-07-14T05:48:02.333587Z",
     "iopub.status.busy": "2021-07-14T05:48:02.332621Z",
     "iopub.status.idle": "2021-07-14T05:48:02.346644Z",
     "shell.execute_reply": "2021-07-14T05:48:02.347181Z",
     "shell.execute_reply.started": "2021-07-14T05:46:40.842457Z"
    },
    "papermill": {
     "duration": 0.059136,
     "end_time": "2021-07-14T05:48:02.347375",
     "exception": false,
     "start_time": "2021-07-14T05:48:02.288239",
     "status": "completed"
    },
    "tags": []
   },
   "outputs": [
    {
     "data": {
      "text/html": [
       "<div>\n",
       "<style scoped>\n",
       "    .dataframe tbody tr th:only-of-type {\n",
       "        vertical-align: middle;\n",
       "    }\n",
       "\n",
       "    .dataframe tbody tr th {\n",
       "        vertical-align: top;\n",
       "    }\n",
       "\n",
       "    .dataframe thead th {\n",
       "        text-align: right;\n",
       "    }\n",
       "</style>\n",
       "<table border=\"1\" class=\"dataframe\">\n",
       "  <thead>\n",
       "    <tr style=\"text-align: right;\">\n",
       "      <th></th>\n",
       "      <th>Pclass</th>\n",
       "      <th>Sex</th>\n",
       "      <th>Age</th>\n",
       "      <th>SibSp</th>\n",
       "      <th>Parch</th>\n",
       "      <th>Fare</th>\n",
       "      <th>Cabin</th>\n",
       "      <th>Embarked</th>\n",
       "      <th>Age_Group</th>\n",
       "    </tr>\n",
       "  </thead>\n",
       "  <tbody>\n",
       "    <tr>\n",
       "      <th>0</th>\n",
       "      <td>3</td>\n",
       "      <td>1</td>\n",
       "      <td>34.5</td>\n",
       "      <td>0</td>\n",
       "      <td>0</td>\n",
       "      <td>7.8292</td>\n",
       "      <td>186</td>\n",
       "      <td>1</td>\n",
       "      <td>1</td>\n",
       "    </tr>\n",
       "    <tr>\n",
       "      <th>1</th>\n",
       "      <td>3</td>\n",
       "      <td>0</td>\n",
       "      <td>47.0</td>\n",
       "      <td>1</td>\n",
       "      <td>0</td>\n",
       "      <td>7.0000</td>\n",
       "      <td>186</td>\n",
       "      <td>2</td>\n",
       "      <td>1</td>\n",
       "    </tr>\n",
       "    <tr>\n",
       "      <th>2</th>\n",
       "      <td>2</td>\n",
       "      <td>1</td>\n",
       "      <td>62.0</td>\n",
       "      <td>0</td>\n",
       "      <td>0</td>\n",
       "      <td>9.6875</td>\n",
       "      <td>186</td>\n",
       "      <td>1</td>\n",
       "      <td>1</td>\n",
       "    </tr>\n",
       "    <tr>\n",
       "      <th>3</th>\n",
       "      <td>3</td>\n",
       "      <td>1</td>\n",
       "      <td>27.0</td>\n",
       "      <td>0</td>\n",
       "      <td>0</td>\n",
       "      <td>8.6625</td>\n",
       "      <td>186</td>\n",
       "      <td>2</td>\n",
       "      <td>0</td>\n",
       "    </tr>\n",
       "    <tr>\n",
       "      <th>4</th>\n",
       "      <td>3</td>\n",
       "      <td>0</td>\n",
       "      <td>22.0</td>\n",
       "      <td>1</td>\n",
       "      <td>1</td>\n",
       "      <td>12.2875</td>\n",
       "      <td>186</td>\n",
       "      <td>2</td>\n",
       "      <td>0</td>\n",
       "    </tr>\n",
       "  </tbody>\n",
       "</table>\n",
       "</div>"
      ],
      "text/plain": [
       "   Pclass  Sex   Age  SibSp  Parch     Fare  Cabin  Embarked  Age_Group\n",
       "0       3    1  34.5      0      0   7.8292    186         1          1\n",
       "1       3    0  47.0      1      0   7.0000    186         2          1\n",
       "2       2    1  62.0      0      0   9.6875    186         1          1\n",
       "3       3    1  27.0      0      0   8.6625    186         2          0\n",
       "4       3    0  22.0      1      1  12.2875    186         2          0"
      ]
     },
     "execution_count": 28,
     "metadata": {},
     "output_type": "execute_result"
    }
   ],
   "source": [
    "df_test.head()"
   ]
  },
  {
   "cell_type": "markdown",
   "id": "circular-preliminary",
   "metadata": {
    "papermill": {
     "duration": 0.041501,
     "end_time": "2021-07-14T05:48:02.434047",
     "exception": false,
     "start_time": "2021-07-14T05:48:02.392546",
     "status": "completed"
    },
    "tags": []
   },
   "source": [
    "# More Preprocessing\n",
    "\n",
    "Before we begin to train our model for the classification task, we first scale the data with Scikit-learn's `StandardScaler`. And before that, we extract the target column from `df_train`."
   ]
  },
  {
   "cell_type": "code",
   "execution_count": 29,
   "id": "mathematical-fellow",
   "metadata": {
    "execution": {
     "iopub.execute_input": "2021-07-14T05:48:02.522219Z",
     "iopub.status.busy": "2021-07-14T05:48:02.521235Z",
     "iopub.status.idle": "2021-07-14T05:48:02.525151Z",
     "shell.execute_reply": "2021-07-14T05:48:02.525655Z",
     "shell.execute_reply.started": "2021-07-14T05:47:36.353296Z"
    },
    "papermill": {
     "duration": 0.050006,
     "end_time": "2021-07-14T05:48:02.525833",
     "exception": false,
     "start_time": "2021-07-14T05:48:02.475827",
     "status": "completed"
    },
    "tags": []
   },
   "outputs": [],
   "source": [
    "y = df_train['Survived']\n",
    "#df_train.drop('Survived', axis=1, inplace=True)"
   ]
  },
  {
   "cell_type": "markdown",
   "id": "southeast-holiday",
   "metadata": {
    "papermill": {
     "duration": 0.042164,
     "end_time": "2021-07-14T05:48:02.610735",
     "exception": false,
     "start_time": "2021-07-14T05:48:02.568571",
     "status": "completed"
    },
    "tags": []
   },
   "source": [
    "Now we are ready to scale the data and use them for model training."
   ]
  },
  {
   "cell_type": "code",
   "execution_count": 30,
   "id": "musical-ambassador",
   "metadata": {
    "execution": {
     "iopub.execute_input": "2021-07-14T05:48:02.699360Z",
     "iopub.status.busy": "2021-07-14T05:48:02.698658Z",
     "iopub.status.idle": "2021-07-14T05:48:02.710050Z",
     "shell.execute_reply": "2021-07-14T05:48:02.710611Z",
     "shell.execute_reply.started": "2021-07-14T05:47:36.360749Z"
    },
    "papermill": {
     "duration": 0.057402,
     "end_time": "2021-07-14T05:48:02.710810",
     "exception": false,
     "start_time": "2021-07-14T05:48:02.653408",
     "status": "completed"
    },
    "tags": []
   },
   "outputs": [],
   "source": [
    "cols_to_scale = ['Pclass', 'Age', 'Fare', 'Cabin', 'Embarked', 'Age_Group']\n",
    "for col in cols_to_scale:\n",
    "    sc = MinMaxScaler()\n",
    "    df_train[col] = sc.fit_transform(df_train[col].values.reshape(-1,1))\n",
    "    sc = MinMaxScaler()\n",
    "    df_test[col] = sc.fit_transform(df_test[col].values.reshape(-1,1))"
   ]
  },
  {
   "cell_type": "code",
   "execution_count": 31,
   "id": "interim-literature",
   "metadata": {
    "execution": {
     "iopub.execute_input": "2021-07-14T05:48:02.798619Z",
     "iopub.status.busy": "2021-07-14T05:48:02.797954Z",
     "iopub.status.idle": "2021-07-14T05:48:02.815420Z",
     "shell.execute_reply": "2021-07-14T05:48:02.814850Z",
     "shell.execute_reply.started": "2021-07-14T05:47:36.383218Z"
    },
    "papermill": {
     "duration": 0.062032,
     "end_time": "2021-07-14T05:48:02.815561",
     "exception": false,
     "start_time": "2021-07-14T05:48:02.753529",
     "status": "completed"
    },
    "tags": []
   },
   "outputs": [
    {
     "data": {
      "text/html": [
       "<div>\n",
       "<style scoped>\n",
       "    .dataframe tbody tr th:only-of-type {\n",
       "        vertical-align: middle;\n",
       "    }\n",
       "\n",
       "    .dataframe tbody tr th {\n",
       "        vertical-align: top;\n",
       "    }\n",
       "\n",
       "    .dataframe thead th {\n",
       "        text-align: right;\n",
       "    }\n",
       "</style>\n",
       "<table border=\"1\" class=\"dataframe\">\n",
       "  <thead>\n",
       "    <tr style=\"text-align: right;\">\n",
       "      <th></th>\n",
       "      <th>Survived</th>\n",
       "      <th>Pclass</th>\n",
       "      <th>Sex</th>\n",
       "      <th>Age</th>\n",
       "      <th>SibSp</th>\n",
       "      <th>Parch</th>\n",
       "      <th>Fare</th>\n",
       "      <th>Cabin</th>\n",
       "      <th>Embarked</th>\n",
       "      <th>Age_Group</th>\n",
       "    </tr>\n",
       "  </thead>\n",
       "  <tbody>\n",
       "    <tr>\n",
       "      <th>0</th>\n",
       "      <td>0</td>\n",
       "      <td>1.0</td>\n",
       "      <td>1</td>\n",
       "      <td>0.283951</td>\n",
       "      <td>1</td>\n",
       "      <td>0</td>\n",
       "      <td>0.014151</td>\n",
       "      <td>1.000000</td>\n",
       "      <td>0.666667</td>\n",
       "      <td>0.0</td>\n",
       "    </tr>\n",
       "    <tr>\n",
       "      <th>1</th>\n",
       "      <td>1</td>\n",
       "      <td>0.0</td>\n",
       "      <td>0</td>\n",
       "      <td>0.481481</td>\n",
       "      <td>1</td>\n",
       "      <td>0</td>\n",
       "      <td>0.139136</td>\n",
       "      <td>0.569892</td>\n",
       "      <td>0.000000</td>\n",
       "      <td>0.5</td>\n",
       "    </tr>\n",
       "    <tr>\n",
       "      <th>2</th>\n",
       "      <td>1</td>\n",
       "      <td>1.0</td>\n",
       "      <td>0</td>\n",
       "      <td>0.333333</td>\n",
       "      <td>0</td>\n",
       "      <td>0</td>\n",
       "      <td>0.015469</td>\n",
       "      <td>1.000000</td>\n",
       "      <td>0.666667</td>\n",
       "      <td>0.0</td>\n",
       "    </tr>\n",
       "    <tr>\n",
       "      <th>3</th>\n",
       "      <td>1</td>\n",
       "      <td>0.0</td>\n",
       "      <td>0</td>\n",
       "      <td>0.444444</td>\n",
       "      <td>1</td>\n",
       "      <td>0</td>\n",
       "      <td>0.103644</td>\n",
       "      <td>0.376344</td>\n",
       "      <td>0.666667</td>\n",
       "      <td>0.5</td>\n",
       "    </tr>\n",
       "    <tr>\n",
       "      <th>4</th>\n",
       "      <td>0</td>\n",
       "      <td>1.0</td>\n",
       "      <td>1</td>\n",
       "      <td>0.444444</td>\n",
       "      <td>0</td>\n",
       "      <td>0</td>\n",
       "      <td>0.015713</td>\n",
       "      <td>1.000000</td>\n",
       "      <td>0.666667</td>\n",
       "      <td>0.5</td>\n",
       "    </tr>\n",
       "  </tbody>\n",
       "</table>\n",
       "</div>"
      ],
      "text/plain": [
       "   Survived  Pclass  Sex       Age  SibSp  Parch      Fare     Cabin  \\\n",
       "0         0     1.0    1  0.283951      1      0  0.014151  1.000000   \n",
       "1         1     0.0    0  0.481481      1      0  0.139136  0.569892   \n",
       "2         1     1.0    0  0.333333      0      0  0.015469  1.000000   \n",
       "3         1     0.0    0  0.444444      1      0  0.103644  0.376344   \n",
       "4         0     1.0    1  0.444444      0      0  0.015713  1.000000   \n",
       "\n",
       "   Embarked  Age_Group  \n",
       "0  0.666667        0.0  \n",
       "1  0.000000        0.5  \n",
       "2  0.666667        0.0  \n",
       "3  0.666667        0.5  \n",
       "4  0.666667        0.5  "
      ]
     },
     "execution_count": 31,
     "metadata": {},
     "output_type": "execute_result"
    }
   ],
   "source": [
    "df_train.head()"
   ]
  },
  {
   "cell_type": "code",
   "execution_count": 32,
   "id": "separate-huntington",
   "metadata": {
    "execution": {
     "iopub.execute_input": "2021-07-14T05:48:02.908240Z",
     "iopub.status.busy": "2021-07-14T05:48:02.907595Z",
     "iopub.status.idle": "2021-07-14T05:48:02.924587Z",
     "shell.execute_reply": "2021-07-14T05:48:02.923850Z",
     "shell.execute_reply.started": "2021-07-14T05:47:36.402638Z"
    },
    "papermill": {
     "duration": 0.062193,
     "end_time": "2021-07-14T05:48:02.924741",
     "exception": false,
     "start_time": "2021-07-14T05:48:02.862548",
     "status": "completed"
    },
    "tags": []
   },
   "outputs": [
    {
     "data": {
      "text/html": [
       "<div>\n",
       "<style scoped>\n",
       "    .dataframe tbody tr th:only-of-type {\n",
       "        vertical-align: middle;\n",
       "    }\n",
       "\n",
       "    .dataframe tbody tr th {\n",
       "        vertical-align: top;\n",
       "    }\n",
       "\n",
       "    .dataframe thead th {\n",
       "        text-align: right;\n",
       "    }\n",
       "</style>\n",
       "<table border=\"1\" class=\"dataframe\">\n",
       "  <thead>\n",
       "    <tr style=\"text-align: right;\">\n",
       "      <th></th>\n",
       "      <th>Pclass</th>\n",
       "      <th>Sex</th>\n",
       "      <th>Age</th>\n",
       "      <th>SibSp</th>\n",
       "      <th>Parch</th>\n",
       "      <th>Fare</th>\n",
       "      <th>Cabin</th>\n",
       "      <th>Embarked</th>\n",
       "      <th>Age_Group</th>\n",
       "    </tr>\n",
       "  </thead>\n",
       "  <tbody>\n",
       "    <tr>\n",
       "      <th>0</th>\n",
       "      <td>1.0</td>\n",
       "      <td>1</td>\n",
       "      <td>0.461039</td>\n",
       "      <td>0</td>\n",
       "      <td>0</td>\n",
       "      <td>0.017200</td>\n",
       "      <td>1.0</td>\n",
       "      <td>0.5</td>\n",
       "      <td>0.5</td>\n",
       "    </tr>\n",
       "    <tr>\n",
       "      <th>1</th>\n",
       "      <td>1.0</td>\n",
       "      <td>0</td>\n",
       "      <td>0.623377</td>\n",
       "      <td>1</td>\n",
       "      <td>0</td>\n",
       "      <td>0.015585</td>\n",
       "      <td>1.0</td>\n",
       "      <td>1.0</td>\n",
       "      <td>0.5</td>\n",
       "    </tr>\n",
       "    <tr>\n",
       "      <th>2</th>\n",
       "      <td>0.5</td>\n",
       "      <td>1</td>\n",
       "      <td>0.818182</td>\n",
       "      <td>0</td>\n",
       "      <td>0</td>\n",
       "      <td>0.020820</td>\n",
       "      <td>1.0</td>\n",
       "      <td>0.5</td>\n",
       "      <td>0.5</td>\n",
       "    </tr>\n",
       "    <tr>\n",
       "      <th>3</th>\n",
       "      <td>1.0</td>\n",
       "      <td>1</td>\n",
       "      <td>0.363636</td>\n",
       "      <td>0</td>\n",
       "      <td>0</td>\n",
       "      <td>0.018823</td>\n",
       "      <td>1.0</td>\n",
       "      <td>1.0</td>\n",
       "      <td>0.0</td>\n",
       "    </tr>\n",
       "    <tr>\n",
       "      <th>4</th>\n",
       "      <td>1.0</td>\n",
       "      <td>0</td>\n",
       "      <td>0.298701</td>\n",
       "      <td>1</td>\n",
       "      <td>1</td>\n",
       "      <td>0.025885</td>\n",
       "      <td>1.0</td>\n",
       "      <td>1.0</td>\n",
       "      <td>0.0</td>\n",
       "    </tr>\n",
       "  </tbody>\n",
       "</table>\n",
       "</div>"
      ],
      "text/plain": [
       "   Pclass  Sex       Age  SibSp  Parch      Fare  Cabin  Embarked  Age_Group\n",
       "0     1.0    1  0.461039      0      0  0.017200    1.0       0.5        0.5\n",
       "1     1.0    0  0.623377      1      0  0.015585    1.0       1.0        0.5\n",
       "2     0.5    1  0.818182      0      0  0.020820    1.0       0.5        0.5\n",
       "3     1.0    1  0.363636      0      0  0.018823    1.0       1.0        0.0\n",
       "4     1.0    0  0.298701      1      1  0.025885    1.0       1.0        0.0"
      ]
     },
     "execution_count": 32,
     "metadata": {},
     "output_type": "execute_result"
    }
   ],
   "source": [
    "df_test.head()"
   ]
  },
  {
   "cell_type": "markdown",
   "id": "mental-window",
   "metadata": {
    "papermill": {
     "duration": 0.042312,
     "end_time": "2021-07-14T05:48:03.014494",
     "exception": false,
     "start_time": "2021-07-14T05:48:02.972182",
     "status": "completed"
    },
    "tags": []
   },
   "source": [
    "# Save Preprocessed Datasets For Modeling"
   ]
  },
  {
   "cell_type": "code",
   "execution_count": 33,
   "id": "reverse-salmon",
   "metadata": {
    "execution": {
     "iopub.execute_input": "2021-07-14T05:48:03.104792Z",
     "iopub.status.busy": "2021-07-14T05:48:03.103831Z",
     "iopub.status.idle": "2021-07-14T05:48:03.127859Z",
     "shell.execute_reply": "2021-07-14T05:48:03.127181Z",
     "shell.execute_reply.started": "2021-07-14T05:47:36.427189Z"
    },
    "papermill": {
     "duration": 0.070836,
     "end_time": "2021-07-14T05:48:03.128011",
     "exception": false,
     "start_time": "2021-07-14T05:48:03.057175",
     "status": "completed"
    },
    "tags": []
   },
   "outputs": [],
   "source": [
    "df_train.to_csv('train_preprocessed.csv', index=False)\n",
    "df_test.to_csv('test_preprocessed.csv', index=False)"
   ]
  },
  {
   "cell_type": "markdown",
   "id": "preceding-fellowship",
   "metadata": {
    "papermill": {
     "duration": 0.043359,
     "end_time": "2021-07-14T05:48:03.218011",
     "exception": false,
     "start_time": "2021-07-14T05:48:03.174652",
     "status": "completed"
    },
    "tags": []
   },
   "source": [
    "# Finishing Remarks\n",
    "\n",
    "Thanks for reading and I welcome your feedback and suggestions for improvement. The notebook will be updated periodically as well.\n",
    "\n",
    "Happy Kaggling!\n",
    "\n",
    "---------------------------------------------------------------------\n",
    "My notebooks in this series can be found in the links below:\n",
    "- [Exploratory Data Analysis (EDA)](https://www.kaggle.com/khoongweihao/part-1-exploratory-data-analysis-eda)\n",
    "- [Preprocessing & Feature Engineering](https://www.kaggle.com/khoongweihao/part-2-preprocessing-feature-engineering)\n",
    "- [Model Training & Validation Strategies](https://www.kaggle.com/khoongweihao/part-3-model-training-validation-strategies)\n",
    "- [Inference & Post-processing Techniques](https://www.kaggle.com/khoongweihao/part-4-inference-and-post-processing-techniques)\n",
    "\n",
    "Bonus notebooks include adoption of recent research in terms of models, hyperparameter search, etc. They can be found in the links below:\n",
    "- Hyperparameter optimization with Optuna\n",
    "- TabNet "
   ]
  }
 ],
 "metadata": {
  "kernelspec": {
   "display_name": "Python 3",
   "language": "python",
   "name": "python3"
  },
  "language_info": {
   "codemirror_mode": {
    "name": "ipython",
    "version": 3
   },
   "file_extension": ".py",
   "mimetype": "text/x-python",
   "name": "python",
   "nbconvert_exporter": "python",
   "pygments_lexer": "ipython3",
   "version": "3.7.10"
  },
  "papermill": {
   "default_parameters": {},
   "duration": 14.445036,
   "end_time": "2021-07-14T05:48:03.971669",
   "environment_variables": {},
   "exception": null,
   "input_path": "__notebook__.ipynb",
   "output_path": "__notebook__.ipynb",
   "parameters": {},
   "start_time": "2021-07-14T05:47:49.526633",
   "version": "2.3.3"
  }
 },
 "nbformat": 4,
 "nbformat_minor": 5
}
