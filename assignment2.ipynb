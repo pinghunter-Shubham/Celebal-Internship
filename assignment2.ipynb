{
 "cells": [
  {
   "cell_type": "markdown",
   "metadata": {},
   "source": [
    "# Simple Calculator in Python\n",
    "\n",
    "This guide provides step-by-step instructions to create a simple calculator in Python that can perform basic arithmetic operations such as addition, subtraction, multiplication, and division.\n",
    "\n",
    "## Functions\n",
    "\n",
    "1. **Addition**"
   ]
  },
  {
   "cell_type": "code",
   "execution_count": 1,
   "metadata": {},
   "outputs": [],
   "source": [
    "def add(x, y):\n",
    "    return x + y"
   ]
  },
  {
   "cell_type": "markdown",
   "metadata": {},
   "source": [
    "2. **Subtraction**"
   ]
  },
  {
   "cell_type": "code",
   "execution_count": 2,
   "metadata": {},
   "outputs": [],
   "source": [
    "def subtract(x, y):\n",
    "    return x - y"
   ]
  },
  {
   "cell_type": "markdown",
   "metadata": {},
   "source": [
    "3. **Multiplication**"
   ]
  },
  {
   "cell_type": "code",
   "execution_count": 3,
   "metadata": {},
   "outputs": [],
   "source": [
    "def multiply(x, y):\n",
    "    return x * y"
   ]
  },
  {
   "cell_type": "markdown",
   "metadata": {},
   "source": [
    "4. **Division**"
   ]
  },
  {
   "cell_type": "code",
   "execution_count": 4,
   "metadata": {},
   "outputs": [],
   "source": [
    "def divide(x, y):\n",
    "    if y == 0:\n",
    "        return \"Error! Division by zero.\"\n",
    "    else:\n",
    "        return x / y\n"
   ]
  },
  {
   "cell_type": "markdown",
   "metadata": {},
   "source": [
    "## Main Program\n",
    "\n",
    "The main program will prompt the user to select an operation and input two numbers. It will then call the appropriate function to perform the calculation and display the result. The user can perform multiple calculations until they choose to exit.\n"
   ]
  },
  {
   "cell_type": "code",
   "execution_count": 6,
   "metadata": {},
   "outputs": [
    {
     "name": "stdout",
     "output_type": "stream",
     "text": [
      "Select operation:\n",
      "1.Add\n",
      "2.Subtract\n",
      "3.Multiply\n",
      "4.Divide\n",
      "45.0 + 45.0 = 90.0\n",
      "67.0 - 54.0 = 13.0\n",
      "56.0 * 89898989898989.0 = 5034343434343384.0\n",
      "7889887.0 / 8665.0 = 910.5466820542412\n"
     ]
    }
   ],
   "source": [
    "print(\"Select operation:\")\n",
    "print(\"1.Add\")\n",
    "print(\"2.Subtract\")\n",
    "print(\"3.Multiply\")\n",
    "print(\"4.Divide\")\n",
    "\n",
    "while True:\n",
    "    choice = input(\"Enter choice(1/2/3/4): \")\n",
    "\n",
    "    if choice in ['1', '2', '3', '4']:\n",
    "        num1 = float(input(\"Enter first number: \"))\n",
    "        num2 = float(input(\"Enter second number: \"))\n",
    "\n",
    "        if choice == '1':\n",
    "            print(f\"{num1} + {num2} = {add(num1, num2)}\")\n",
    "\n",
    "        elif choice == '2':\n",
    "            print(f\"{num1} - {num2} = {subtract(num1, num2)}\")\n",
    "\n",
    "        elif choice == '3':\n",
    "            print(f\"{num1} * {num2} = {multiply(num1, num2)}\")\n",
    "\n",
    "        elif choice == '4':\n",
    "            print(f\"{num1} / {num2} = {divide(num1, num2)}\")\n",
    "        \n",
    "        next_calculation = input(\"Let's do next calculation? (yes/no): \")\n",
    "        if next_calculation.lower() != 'yes':\n",
    "            break\n",
    "    else:\n",
    "        print(\"Invalid Input\")\n"
   ]
  }
 ],
 "metadata": {
  "kernelspec": {
   "display_name": "base",
   "language": "python",
   "name": "python3"
  },
  "language_info": {
   "codemirror_mode": {
    "name": "ipython",
    "version": 3
   },
   "file_extension": ".py",
   "mimetype": "text/x-python",
   "name": "python",
   "nbconvert_exporter": "python",
   "pygments_lexer": "ipython3",
   "version": "3.11.5"
  }
 },
 "nbformat": 4,
 "nbformat_minor": 2
}
