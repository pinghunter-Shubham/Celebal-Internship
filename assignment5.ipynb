{
 "cells": [
  {
   "cell_type": "markdown",
   "id": "74634566",
   "metadata": {},
   "source": [
    "# Data Preprocessing for Reddit Dataset\n",
    "\n",
    "This notebook demonstrates data preprocessing steps including handling missing values, data transformation, normalization, encoding, and feature engineering for predictive modeling.\n"
   ]
  },
  {
   "cell_type": "code",
   "execution_count": 1,
   "id": "e67ee3ec",
   "metadata": {},
   "outputs": [],
   "source": [
    "import pandas as pd\n",
    "from sklearn.preprocessing import StandardScaler, LabelEncoder\n",
    "from datetime import datetime\n"
   ]
  },
  {
   "cell_type": "code",
   "execution_count": 2,
   "id": "c3b8d5ad",
   "metadata": {},
   "outputs": [
    {
     "name": "stdout",
     "output_type": "stream",
     "text": [
      "<class 'pandas.core.frame.DataFrame'>\n",
      "RangeIndex: 5374 entries, 0 to 5373\n",
      "Data columns (total 8 columns):\n",
      " #   Column         Non-Null Count  Dtype \n",
      "---  ------         --------------  ----- \n",
      " 0   subreddit      5374 non-null   object\n",
      " 1   title          5369 non-null   object\n",
      " 2   score          5374 non-null   int64 \n",
      " 3   id             5374 non-null   object\n",
      " 4   url            5374 non-null   object\n",
      " 5   comments       5374 non-null   int64 \n",
      " 6   creation time  5374 non-null   object\n",
      " 7   content        4010 non-null   object\n",
      "dtypes: int64(2), object(6)\n",
      "memory usage: 336.0+ KB\n"
     ]
    },
    {
     "data": {
      "text/plain": [
       "(None,\n",
       "              subreddit                                           title  score  \\\n",
       " 0   narcissisticinlaws                      in laws encourage bullying      1   \n",
       " 1  narcissisticspouses                             hidden tracker apps      2   \n",
       " 2  narcissisticparents  narc mother terminal illness less than a month      3   \n",
       " 3  narcissisticmothers                is it fair for my mom to do this      7   \n",
       " 4  narcissisticmothers          parents withdrawing financial support       4   \n",
       " \n",
       "         id                                                url  comments  \\\n",
       " 0  16bjmj1  httpswwwredditcomrnarcissisticinlawscomments16...         0   \n",
       " 1  1ddnqjb  httpswwwredditcomrnarcissisticspousescomments1...         1   \n",
       " 2  1dg697r  httpswwwredditcomrnarcissisticparentscomments1...         1   \n",
       " 3  1cxqpin  httpswwwredditcomrnarcissisticmotherscomments1...         4   \n",
       " 4  1bqa2r6  httpswwwredditcomrnarcissisticmotherscomments1...         3   \n",
       " \n",
       "      creation time                                            content  \n",
       " 0  20230906 125739  my inlaws have changed there parenting per chi...  \n",
       " 1  20240611 200730  i think he is tracking me and im not sure if i...  \n",
       " 2  20240615 010505  okay in short my narc mother had a brain tumor...  \n",
       " 3  20240522 032752  my mom doesnt like the way i dress and is now ...  \n",
       " 4  20240328 232635  turned 18 in january have been  bombarded with...  )"
      ]
     },
     "execution_count": 2,
     "metadata": {},
     "output_type": "execute_result"
    }
   ],
   "source": [
    "# Load the dataset\n",
    "file_path = 'Reddit.csv'\n",
    "data = pd.read_csv(file_path)\n",
    "\n",
    "# Display basic information about the dataset\n",
    "data.info(), data.head()\n"
   ]
  },
  {
   "cell_type": "code",
   "execution_count": 3,
   "id": "d3d94b5a",
   "metadata": {},
   "outputs": [],
   "source": [
    "# Handling missing values\n",
    "data['title'].fillna('No Title', inplace=True)\n",
    "data['content'].fillna('No Content', inplace=True)\n"
   ]
  },
  {
   "cell_type": "code",
   "execution_count": 4,
   "id": "5cd02e98",
   "metadata": {},
   "outputs": [],
   "source": [
    "# Data transformation: converting 'creation time' to datetime\n",
    "data['creation time'] = pd.to_datetime(data['creation time'], format='%Y%m%d %H%M%S')\n",
    "\n",
    "# Extracting additional features from 'creation time'\n",
    "data['year'] = data['creation time'].dt.year\n",
    "data['month'] = data['creation time'].dt.month\n",
    "data['day'] = data['creation time'].dt.day\n",
    "data['hour'] = data['creation time'].dt.hour\n",
    "data['minute'] = data['creation time'].dt.minute\n",
    "data['second'] = data['creation time'].dt.second\n"
   ]
  },
  {
   "cell_type": "code",
   "execution_count": 5,
   "id": "920ecc75",
   "metadata": {},
   "outputs": [],
   "source": [
    "# Normalization of numerical columns\n",
    "scaler = StandardScaler()\n",
    "data[['score', 'comments']] = scaler.fit_transform(data[['score', 'comments']])\n"
   ]
  },
  {
   "cell_type": "code",
   "execution_count": 6,
   "id": "fe95a363",
   "metadata": {},
   "outputs": [],
   "source": [
    "# Encoding categorical variables\n",
    "encoder = LabelEncoder()\n",
    "data['subreddit'] = encoder.fit_transform(data['subreddit'])\n"
   ]
  },
  {
   "cell_type": "code",
   "execution_count": 7,
   "id": "cdfe7806",
   "metadata": {},
   "outputs": [
    {
     "name": "stdout",
     "output_type": "stream",
     "text": [
      "<class 'pandas.core.frame.DataFrame'>\n",
      "RangeIndex: 5374 entries, 0 to 5373\n",
      "Data columns (total 11 columns):\n",
      " #   Column     Non-Null Count  Dtype  \n",
      "---  ------     --------------  -----  \n",
      " 0   subreddit  5374 non-null   int32  \n",
      " 1   title      5374 non-null   object \n",
      " 2   score      5374 non-null   float64\n",
      " 3   comments   5374 non-null   float64\n",
      " 4   content    5374 non-null   object \n",
      " 5   year       5374 non-null   int32  \n",
      " 6   month      5374 non-null   int32  \n",
      " 7   day        5374 non-null   int32  \n",
      " 8   hour       5374 non-null   int32  \n",
      " 9   minute     5374 non-null   int32  \n",
      " 10  second     5374 non-null   int32  \n",
      "dtypes: float64(2), int32(7), object(2)\n",
      "memory usage: 315.0+ KB\n"
     ]
    },
    {
     "data": {
      "text/plain": [
       "(None,\n",
       "    subreddit                                           title     score  \\\n",
       " 0         13                      in laws encourage bullying -0.490332   \n",
       " 1         22                             hidden tracker apps -0.413823   \n",
       " 2         18  narc mother terminal illness less than a month -0.337314   \n",
       " 3         16                is it fair for my mom to do this -0.031278   \n",
       " 4         16          parents withdrawing financial support  -0.260805   \n",
       " \n",
       "    comments                                            content  year  month  \\\n",
       " 0 -0.483803  my inlaws have changed there parenting per chi...  2023      9   \n",
       " 1 -0.413619  i think he is tracking me and im not sure if i...  2024      6   \n",
       " 2 -0.413619  okay in short my narc mother had a brain tumor...  2024      6   \n",
       " 3 -0.203068  my mom doesnt like the way i dress and is now ...  2024      5   \n",
       " 4 -0.273252  turned 18 in january have been  bombarded with...  2024      3   \n",
       " \n",
       "    day  hour  minute  second  \n",
       " 0    6    12      57      39  \n",
       " 1   11    20       7      30  \n",
       " 2   15     1       5       5  \n",
       " 3   22     3      27      52  \n",
       " 4   28    23      26      35  )"
      ]
     },
     "execution_count": 7,
     "metadata": {},
     "output_type": "execute_result"
    }
   ],
   "source": [
    "# Dropping columns that may not be necessary for predictive modeling\n",
    "data.drop(columns=['id', 'url', 'creation time'], inplace=True)\n",
    "\n",
    "# Display the preprocessed data\n",
    "data.info(), data.head()\n"
   ]
  }
 ],
 "metadata": {
  "kernelspec": {
   "display_name": "base",
   "language": "python",
   "name": "python3"
  },
  "language_info": {
   "codemirror_mode": {
    "name": "ipython",
    "version": 3
   },
   "file_extension": ".py",
   "mimetype": "text/x-python",
   "name": "python",
   "nbconvert_exporter": "python",
   "pygments_lexer": "ipython3",
   "version": "3.11.5"
  }
 },
 "nbformat": 4,
 "nbformat_minor": 5
}
